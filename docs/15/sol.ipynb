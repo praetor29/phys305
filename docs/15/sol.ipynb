{
 "cells": [
  {
   "cell_type": "markdown",
   "id": "0",
   "metadata": {},
   "source": [
    "# ODE Lab II: Central Potential Problem"
   ]
  },
  {
   "cell_type": "markdown",
   "id": "1",
   "metadata": {},
   "source": [
    "In this lab, we will implement two numerical integration methods—Runge-Kutta 4th order (RK4) and Leapfrog/Verlet—to study a 2D central potential problem.\n",
    "This problem models a body in an inverse-square law force field, such as planetary motion under Newtonian gravity."
   ]
  },
  {
   "cell_type": "markdown",
   "id": "2",
   "metadata": {},
   "source": [
    "The equation governing motion in a central potential is:\n",
    "\\begin{align}\n",
    "  \\frac{d^2 \\mathbf{r}}{dt^2} = \\mathbf{a}\n",
    "  = - \\nabla \\frac{1}{|\\mathbf{r}|} = - \\frac{\\mathbf{r}}{|\\mathbf{r}|^3}\n",
    "\\end{align}\n",
    "This describes how a particle moves under a gravitational or electrostatic potential following an inverse-square law."
   ]
  },
  {
   "cell_type": "markdown",
   "id": "3",
   "metadata": {},
   "source": [
    "In Cartesian coordinates, this system is rewritten as:\n",
    "\\begin{align}\n",
    "\\frac{dx}{dt} &= u, \\quad \\frac{du}{dt} = -\\frac{x}{(x^2 + y^2)^{3/2}} \\\\\n",
    "\\frac{dy}{dt} &= v, \\quad \\frac{dv}{dt} = -\\frac{y}{(x^2 + y^2)^{3/2}}\n",
    "\\end{align}\n",
    "where:\n",
    "* $(x, y)$ are the position coordinates,\n",
    "* $(u, v)$ are the velocity components,\n",
    "* The acceleration components are computed using the inverse-square law.\n",
    "\n",
    "We will solve this system numerically using RK4 and Leapfrog/Verlet methods.\n"
   ]
  },
  {
   "cell_type": "code",
   "execution_count": null,
   "id": "4",
   "metadata": {},
   "outputs": [],
   "source": [
    "import numpy as np\n",
    "from matplotlib import pyplot as plt"
   ]
  },
  {
   "cell_type": "markdown",
   "id": "5",
   "metadata": {},
   "source": [
    "## **Fourth-Order Runge-Kutta Method (RK4)**\n",
    "\n",
    "The RK4 method estimates the solution using four intermediate slopes:\n",
    "\\begin{align}\n",
    "k_1 &= \\Delta t \\, f(X_n, t_n) \\\\\n",
    "k_2 &= \\Delta t \\, f\\left(X_n + \\frac{1}{2}k_1, t_n + \\frac{1}{2}\\Delta t\\right) \\\\\n",
    "k_3 &= \\Delta t \\, f\\left(X_n + \\frac{1}{2}k_2, t_n + \\frac{1}{2}\\Delta t\\right) \\\\\n",
    "k_4 &= \\Delta t \\, f\\left(X_n + k_3, t_n + \\Delta t\\right)\n",
    "\\end{align}\n",
    "\n",
    "The update step is:\n",
    "\\begin{align}\n",
    "X_{n+1} = X_n + \\frac{1}{6} k_1 + \\frac{1}{3} k_2 + \\frac{1}{3} k_3 + \\frac{1}{6} k_4.\n",
    "\\end{align}\n",
    "\n",
    "This method is fourth-order accurate, meaning it introduces an error on the order of $\\mathcal{O}(\\Delta t^4)$ per step."
   ]
  },
  {
   "cell_type": "code",
   "execution_count": null,
   "id": "6",
   "metadata": {},
   "outputs": [],
   "source": [
    "# We improve the implementation from last lecture slightly\n",
    "\n",
    "def RK4(f, x0, t0, dt, n):\n",
    "    T = [t0]\n",
    "    X = [x0]\n",
    "\n",
    "    for i in range(n):\n",
    "        k1 = dt * np.array(f(X[-1]         ))\n",
    "        k2 = dt * np.array(f(X[-1] + 0.5*k1))\n",
    "        k3 = dt * np.array(f(X[-1] + 0.5*k2))\n",
    "        k4 = dt * np.array(f(X[-1] +     k3))\n",
    "\n",
    "        T.append(T[-1] + dt)\n",
    "        X.append(X[-1] + k1/6 + k2/3 + k3/3 + k4/6)\n",
    "\n",
    "    return np.array(T), np.array(X)"
   ]
  },
  {
   "cell_type": "markdown",
   "id": "7",
   "metadata": {},
   "source": [
    "### **Defining the Acceleration Function**\n",
    "\n",
    "We define a function that computes the acceleration based on the inverse-square law:"
   ]
  },
  {
   "cell_type": "code",
   "execution_count": null,
   "id": "8",
   "metadata": {},
   "outputs": [],
   "source": [
    "def va(rv):\n",
    "    x, y, u, v = rv\n",
    "    rr = x*x + y*y\n",
    "    f  = -1 / (rr * np.sqrt(rr))\n",
    "    return np.array([u, v, x * f, y * f])"
   ]
  },
  {
   "cell_type": "markdown",
   "id": "9",
   "metadata": {},
   "source": [
    "Now we apply RK4 to solve the system:"
   ]
  },
  {
   "cell_type": "code",
   "execution_count": null,
   "id": "10",
   "metadata": {},
   "outputs": [],
   "source": [
    "T, RV = RK4(va, np.array([1, 0, 0, 0.75]), 0, 0.1, 1000)\n",
    "\n",
    "X_RK4 = RV[:,0]\n",
    "Y_RK4 = RV[:,1]"
   ]
  },
  {
   "cell_type": "code",
   "execution_count": null,
   "id": "11",
   "metadata": {},
   "outputs": [],
   "source": [
    "plt.scatter([0],[0], color='k')\n",
    "plt.plot(X_RK4, Y_RK4)\n",
    "plt.xlim(-1.2,1.2)\n",
    "plt.ylim(-1.2,1.2)\n",
    "plt.gca().set_aspect('equal')"
   ]
  },
  {
   "cell_type": "markdown",
   "id": "12",
   "metadata": {},
   "source": [
    "## **Leapfrog/Verlet Method**\n",
    "\n",
    "Leapfrog integrates the equations in a staggered manner:\n",
    "\\begin{align}\n",
    "v_{n+1/2} &= v_n       + \\frac{1}{2} a(r_{n})    \\Delta t, \\\\\n",
    "r_{n+1}   &= r_n       +               v_{n+1/2} \\Delta t, \\\\\n",
    "v_{n+1}   &= v_{n+1/2} + \\frac{1}{2} a(r_{n+1})  \\Delta t.\n",
    "\\end{align}"
   ]
  },
  {
   "cell_type": "code",
   "execution_count": null,
   "id": "13",
   "metadata": {},
   "outputs": [],
   "source": [
    "# Leapfrog/Verlet Method\n",
    "def leapfrog(a, r0, v0, t0, dt, n):\n",
    "    \n",
    "    T = [t0]\n",
    "    X = [r0[0]]\n",
    "    Y = [r0[1]]\n",
    "    U = [v0[0]]\n",
    "    V = [v0[1]]\n",
    "\n",
    "    ax, ay = a(X[-1], Y[-1])\n",
    "\n",
    "    for _ in range(n):\n",
    "        uh = U[-1] + ax * dt / 2\n",
    "        vh = V[-1] + ay * dt / 2\n",
    "\n",
    "        X.append(X[-1] + uh * dt)\n",
    "        Y.append(Y[-1] + vh * dt)\n",
    "\n",
    "        ax, ay = a(X[-1], Y[-1])\n",
    "\n",
    "        U.append(uh + ax * dt / 2)\n",
    "        V.append(vh + ay * dt / 2)\n",
    "\n",
    "        T.append(T[-1] + dt)\n",
    "\n",
    "    return np.array(T), np.array([X, Y]).T, np.array([U, V]).T"
   ]
  },
  {
   "cell_type": "markdown",
   "id": "14",
   "metadata": {},
   "source": [
    "With `leapfrog()`, the \"force\" term is easier to implement:"
   ]
  },
  {
   "cell_type": "code",
   "execution_count": null,
   "id": "15",
   "metadata": {},
   "outputs": [],
   "source": [
    "def a(x, y):\n",
    "    rr = x*x + y*y\n",
    "    f  = -1 / (rr * np.sqrt(rr))\n",
    "    return x * f, y * f"
   ]
  },
  {
   "cell_type": "markdown",
   "id": "16",
   "metadata": {},
   "source": [
    "Running the leapfrog integration:"
   ]
  },
  {
   "cell_type": "code",
   "execution_count": null,
   "id": "17",
   "metadata": {},
   "outputs": [],
   "source": [
    "T, R, V = leapfrog(a, (1, 0), (0, 0.75), 0, 0.1, 1000)\n",
    "\n",
    "X_lf = R[:,0]\n",
    "Y_lf = R[:,1]"
   ]
  },
  {
   "cell_type": "code",
   "execution_count": null,
   "id": "18",
   "metadata": {},
   "outputs": [],
   "source": [
    "plt.scatter([0],[0], color='k')\n",
    "plt.plot(X_lf,  Y_lf)\n",
    "plt.xlim(-1.2,1.2)\n",
    "plt.ylim(-1.2,1.2)\n",
    "plt.gca().set_aspect('equal')"
   ]
  },
  {
   "cell_type": "markdown",
   "id": "19",
   "metadata": {},
   "source": [
    "# Comparing RK4 and Leapfrog\n",
    "\n",
    "Now integrate this up to 2,000 dynamic time and compare between RK4 and leapfrog."
   ]
  },
  {
   "cell_type": "code",
   "execution_count": null,
   "id": "20",
   "metadata": {},
   "outputs": [],
   "source": [
    "T, RV = RK4(va, np.array([1, 0, 0, 0.75]), 0, 0.1, 20_000)\n",
    "X_RK4 = RV[:,0]\n",
    "Y_RK4 = RV[:,1]\n",
    "\n",
    "T, R, V = leapfrog(a, (1, 0), (0, 0.75), 0, 0.1, 20_000)\n",
    "X_lf = R[:,0]\n",
    "Y_lf = R[:,1]"
   ]
  },
  {
   "cell_type": "code",
   "execution_count": null,
   "id": "21",
   "metadata": {},
   "outputs": [],
   "source": [
    "plt.scatter([0],[0], color='k')\n",
    "plt.plot(X_lf[10_000:11_000],  Y_lf[10_000:11_000])\n",
    "plt.plot(X_RK4[10_000:11_000], Y_RK4[10_000:11_000])\n",
    "plt.xlim(-0.5,0.5)\n",
    "plt.ylim(-0.5,0.5)\n",
    "plt.gca().set_aspect('equal')"
   ]
  },
  {
   "cell_type": "markdown",
   "id": "22",
   "metadata": {},
   "source": [
    "## **Energy Computation and Conservation Analysis**\n",
    "\n",
    "To analyze the stability of our integrators, we compute the total energy:\n",
    "\\begin{align}\n",
    "E = \\frac{1}{2} (u^2 + v^2) - \\frac{1}{\\sqrt{x^2 + y^2}}\n",
    "\\end{align}"
   ]
  },
  {
   "cell_type": "code",
   "execution_count": null,
   "id": "23",
   "metadata": {},
   "outputs": [],
   "source": [
    "def energy(R, V):\n",
    "    X, Y = R[:,0], R[:,1]\n",
    "    U, V = V[:,0], V[:,1]\n",
    "    T = 0.5 * (U**2 + V**2)\n",
    "    V = -1 / np.sqrt(X**2 + Y**2)\n",
    "    return T + V"
   ]
  },
  {
   "cell_type": "code",
   "execution_count": null,
   "id": "24",
   "metadata": {},
   "outputs": [],
   "source": [
    "E_rk4 = energy(RV[:,:2], RV[:,2:])\n",
    "E_lf  = energy(R, V)\n",
    "\n",
    "plt.plot(T, E_rk4, label='RK4 Energy', linestyle='--')\n",
    "plt.plot(T, E_lf,  label='Leapfrog Energy')\n",
    "plt.xlabel('Time')\n",
    "plt.ylabel('Total Energy')\n",
    "plt.ylim(-10,10)\n",
    "plt.legend()"
   ]
  },
  {
   "cell_type": "markdown",
   "id": "25",
   "metadata": {},
   "source": [
    "## Conclusion\n",
    "\n",
    "* RK4 provides high accuracy but does not conserve energy perfectly.\n",
    "* Leapfrog maintains energy conservation better, making it suitable for long-term orbital simulations.\n"
   ]
  }
 ],
 "metadata": {
  "kernelspec": {
   "display_name": "Python 3 (ipykernel)",
   "language": "python",
   "name": "python3"
  },
  "language_info": {
   "codemirror_mode": {
    "name": "ipython",
    "version": 3
   },
   "file_extension": ".py",
   "mimetype": "text/x-python",
   "name": "python",
   "nbconvert_exporter": "python",
   "pygments_lexer": "ipython3",
   "version": "3.13.2"
  }
 },
 "nbformat": 4,
 "nbformat_minor": 5
}
