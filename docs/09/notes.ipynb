{
 "cells": [
  {
   "cell_type": "markdown",
   "id": "0",
   "metadata": {},
   "source": [
    "# Root Finding"
   ]
  },
  {
   "cell_type": "markdown",
   "id": "1",
   "metadata": {},
   "source": [
    "Root finding and optimization are core numerical techniques that enable us to solve complex equations and optimize functions in fields where analytical solutions are often impossible.\n",
    "Root finding aims to determine values for which a function $f(x) = 0$, and finds application across engineering, physics, and finance—whether calculating stresses in materials, energy levels in quantum mechanics, or rates of return in investments.\n",
    "Optimization seeks to find the minimum or maximum of a function and is especially crucial in machine learning, where minimizing loss functions directly affects model performance.\n",
    "The two concepts intersect in gradient-based optimization, where finding the roots of a gradient helps locate stationary points and optimize complex models."
   ]
  },
  {
   "cell_type": "markdown",
   "id": "2",
   "metadata": {},
   "source": [
    "## Root Finding Techniques"
   ]
  },
  {
   "cell_type": "markdown",
   "id": "3",
   "metadata": {},
   "source": [
    "### Bisection Method\n",
    "\n",
    "The Bisection Method is a simple and robust root-finding algorithm that relies on the Intermediate Value Theorem.\n",
    "The theorem states that if $f(x)$ is a continuous function on an interval $[a, b]$ and $f(a)$ and $f(b)$ have opposite signs, then there exists at least one root in the interval $(a, b)$ where $f(x) = 0$.\n",
    "We already implemented a similar algorithm in a [previous lecture](../06/interpolate.md)."
   ]
  },
  {
   "cell_type": "code",
   "execution_count": null,
   "id": "4",
   "metadata": {},
   "outputs": [],
   "source": [
    "def bisection_index(xs, target):\n",
    "    l, h = 0, len(xs) - 1\n",
    "    while h - l > 1:\n",
    "        m = (h + l) // 2\n",
    "        if target >= xs[m]:\n",
    "            l = m\n",
    "        else:\n",
    "            h = m\n",
    "    return l # returns index of the closest value less than or equal to target"
   ]
  },
  {
   "cell_type": "markdown",
   "id": "5",
   "metadata": {},
   "source": [
    "The main difference is that we no longer have a finite set of sampling points.\n",
    "Instead, low `l` and high `h` bounds are given with a error tolerance `tol`.\n",
    "Also, the target is alway zero."
   ]
  },
  {
   "cell_type": "code",
   "execution_count": null,
   "id": "6",
   "metadata": {},
   "outputs": [],
   "source": [
    "def bisection(f, l, h, tol=1e-6):\n",
    "    if f(l) * f(h) >= 0:\n",
    "        raise ValueError(\"f(a) and f(b) must have opposite signs\")\n",
    "    while h - l > 2*tol:\n",
    "        m = (l + h) / 2\n",
    "        if f(m) == 0:\n",
    "            return m  # m is the root by definition\n",
    "        elif f(l) * f(m) > 0:\n",
    "            l = m\n",
    "        else:\n",
    "            h = m\n",
    "    return (l + h) / 2"
   ]
  },
  {
   "cell_type": "markdown",
   "id": "7",
   "metadata": {},
   "source": [
    "Example usage:"
   ]
  },
  {
   "cell_type": "code",
   "execution_count": null,
   "id": "8",
   "metadata": {},
   "outputs": [],
   "source": [
    "def f(x):\n",
    "    return x**3 - x - 2\n",
    "\n",
    "root = bisection(f, 1, 2)\n",
    "print(\"Approximate root:\")\n",
    "print(\"  x0  = \",   root )\n",
    "print(\"f(x0) = \", f(root))"
   ]
  },
  {
   "cell_type": "markdown",
   "id": "9",
   "metadata": {},
   "source": [
    "The Bisection Method is guaranteed to converge to a root if the function is continuous on $[l, h]$ and $f(l)$ and $f(h)$ have different signs.\n",
    "However, its convergence rate is relatively slow, decreasing the interval size by half with each iteration.\n",
    "This results in a linear convergence rate (of error at fixed step)."
   ]
  },
  {
   "cell_type": "markdown",
   "id": "10",
   "metadata": {},
   "source": [
    "### Newton-Raphson Method\n",
    "\n",
    "The Newton-Raphson Method is based on the concept of using the tangent line at a point on the curve of a function to approximate its root.\n",
    "It leverages the Taylor series expansion to iteratively move closer to the root, achieving quadratic convergence when the initial guess is close to the actual root."
   ]
  },
  {
   "cell_type": "markdown",
   "id": "11",
   "metadata": {},
   "source": [
    "Consider a function $f(x)$ that we want to find the root.\n",
    "Suppose we have an initial guess $x_0$ near the root.\n",
    "We can expand $f(x)$ around this point $x_0$ using the Taylor series:\n",
    "\\begin{align}\n",
    "f(x) = f(x_0) + f'(x_0)(x - x_0) + \\frac{f''(x_0)}{2}(x - x_0)^2 + \\cdots\n",
    "\\end{align}"
   ]
  },
  {
   "cell_type": "markdown",
   "id": "12",
   "metadata": {},
   "source": [
    "For simplicity, we approximate the function linearly by ignoring the higher-order terms.\n",
    "This gives us a linear approximation:\n",
    "\\begin{align}\n",
    "f(x) \\approx f(x_0) + f'(x_0)(x - x_0)\n",
    "\\end{align}\n",
    "\n",
    "We want to find the value of $x$ where $f(x) = 0$.\n",
    "Therefore,\n",
    "\\begin{align}\n",
    "x \\approx x_0 - \\frac{f(x_0)}{f'(x_0)}.\n",
    "\\end{align}"
   ]
  },
  {
   "cell_type": "markdown",
   "id": "13",
   "metadata": {},
   "source": [
    "We may call this next approximation $x_{n+1}$.\n",
    "Thus, we define the iterative update as:\n",
    "\\begin{align}\n",
    "x_{n+1} = x_n - \\frac{f(x_n)}{f'(x_n)}\n",
    "\\end{align}\n",
    "\n",
    "This formula is the foundation of the Newton-Raphson Method.\n",
    "It has a simple geometric interpretation.\n",
    "Starting with an initial guess $x_0$, we compute the tangent line to the function $f(x)$ at $x_0$.\n",
    "The tangent line provides a linear approximation of $f(x)$ near $x_0$, and where this tangent crosses the $x$-axis is our next estimate for the root, $x_1$.\n",
    "By iterating this process, we continue to update our estimate, ideally converging quickly to the root."
   ]
  },
  {
   "cell_type": "markdown",
   "id": "14",
   "metadata": {},
   "source": [
    "The Newton-Raphson Method is quadratically convergence near the root, which means that the error approximately squares with each iteration.\n",
    "Specifically, if $x_n$ is close enough to the root, the error at the next step, $|x_{n+1} - x_\\infty|$, is roughly proportional to $|x_n - x_\\infty|^2$.\n",
    "This quadratic convergence makes the Newton-Raphson Method highly efficient when close to the root.\n",
    "However, it requires:\n",
    "* **Non-Zero Derivative:** The method requires that $f'(x) \\neq 0$ at each iteration.\n",
    "  If $f'(x) = 0$ at any point, the update formula becomes undefined, and the algorithm will fail.\n",
    "* **Good Initial Guess:** Convergence to the root is not guaranteed if the initial guess $x_0$ is too far from the actual root.\n",
    "  Poor starting points can lead the method to diverge or to converge to the wrong root.\n",
    "* **Well-Behaved Function:** The method performs best when $f(x)$ is smooth and continuous near the root."
   ]
  },
  {
   "cell_type": "markdown",
   "id": "15",
   "metadata": {},
   "source": [
    "Here is a Python function that implements the Newton-Raphson Method with an initial guess and a tolerance level:"
   ]
  },
  {
   "cell_type": "code",
   "execution_count": null,
   "id": "16",
   "metadata": {},
   "outputs": [],
   "source": [
    "def newton(f, df, x0, tol=1e-6, imax=100):\n",
    "    for _ in range(imax):\n",
    "        f0, df0 = f(x0), df(x0)\n",
    "        if df0 == 0:\n",
    "            raise ValueError(\"Derivative is zero. No convergence.\")\n",
    "        x = x0 - f0 / df0\n",
    "        if abs(x - x0) < tol:\n",
    "            return x\n",
    "        x0 = x\n",
    "    raise ValueError(\"Maximum iterations reached without convergence\")"
   ]
  },
  {
   "cell_type": "code",
   "execution_count": null,
   "id": "17",
   "metadata": {},
   "outputs": [],
   "source": [
    "f  = lambda x: x**3 - x - 2\n",
    "df = lambda x: 3*x**2 - 1\n",
    "\n",
    "initial_guess = 1.5\n",
    "root = newton(f, df, initial_guess)\n",
    "print(\"Approximate root:\")\n",
    "print(\"  x0  = \",   root )\n",
    "print(\"f(x0) = \", f(root))"
   ]
  },
  {
   "cell_type": "markdown",
   "id": "18",
   "metadata": {},
   "source": [
    "The Newton-Raphson Method is fast and efficient, especially when close to the root, due to its quadratic convergence.\n",
    "However, in addition to the convergence conditions list above, it requires computing derivatives, making it less convenient compared to the bisection method.\n",
    "\n",
    "Nevertheless, we learned about different derivative methods in this course, specifically, the machine accurate autodiff method.\n",
    "By using it, we can implement a convenient Newton-Raphson Method:"
   ]
  },
  {
   "cell_type": "code",
   "execution_count": null,
   "id": "19",
   "metadata": {},
   "outputs": [],
   "source": [
    "import jax\n",
    "jax.config.update(\"jax_enable_x64\", True)\n",
    "\n",
    "from jax import grad\n",
    "\n",
    "def autonewton(f, x0, tol=1e-6, imax=100):\n",
    "    df = grad(f)\n",
    "    for _ in range(imax):\n",
    "        f0, df0 = f(x0), df(x0)\n",
    "        if df0 == 0:\n",
    "            raise ValueError(\"Derivative is zero. No convergence.\")\n",
    "        x = x0 - f0 / df0\n",
    "        if abs(x - x0) < tol:\n",
    "            return x\n",
    "        x0 = x\n",
    "    raise ValueError(\"Maximum iterations reached without convergence\")"
   ]
  },
  {
   "cell_type": "code",
   "execution_count": null,
   "id": "20",
   "metadata": {},
   "outputs": [],
   "source": [
    "initial_guess = 1.5\n",
    "root = autonewton(f, initial_guess)\n",
    "print(\"Approximate root:\")\n",
    "print(\"  x0  = \",   root )\n",
    "print(\"f(x0) = \", f(root))"
   ]
  },
  {
   "cell_type": "markdown",
   "id": "21",
   "metadata": {},
   "source": [
    "### Secant Method\n",
    "\n",
    "While in python we can use packages like `jax` to implement `autonewton()`, autodiff may not be available in some languages or in special embedded systems that has minimal compiler infrastructures.\n",
    "In such a case, one may use the Secant Method, which approximates the derivative using values of $f(x)$ at two nearby points, similar to the finite difference methods.\n",
    "This makes it useful for functions where the derivative is difficult or expensive to compute.\n",
    "The method is generally faster than the Bisection Method but can be less stable than Newton-Raphson if the initial points are not chosen carefully.\n",
    "\n",
    "Here is a python implementation:"
   ]
  },
  {
   "cell_type": "code",
   "execution_count": null,
   "id": "22",
   "metadata": {},
   "outputs": [],
   "source": [
    "def secant(f, x0, x1, tol=1e-6, imax=100):\n",
    "    for _ in range(imax):\n",
    "        f0, f1 = f(x0), f(x1)\n",
    "        if f0 == f1:\n",
    "            raise ValueError(\"Division by zero in secant method.\")\n",
    "        x2 = x1 - f1 * (x1 - x0) / (f1 - f0)\n",
    "        if abs(x2 - x1) < tol:\n",
    "            return x2\n",
    "        x0, x1 = x1, x2\n",
    "    raise ValueError(\"Maximum iterations reached without convergence\")"
   ]
  },
  {
   "cell_type": "code",
   "execution_count": null,
   "id": "23",
   "metadata": {},
   "outputs": [],
   "source": [
    "root = secant(f, 1, 2)\n",
    "print(\"Approximate root:\")\n",
    "print(\"  x0  = \",   root )\n",
    "print(\"f(x0) = \", f(root))"
   ]
  },
  {
   "cell_type": "markdown",
   "id": "24",
   "metadata": {},
   "source": [
    "### Newton-Raphson Method for Nonlinear Systems of Equations\n",
    "\n",
    "The Newton-Raphson Method is also a powerful technique for solving systems of nonlinear equations, where variables are interdependent in complex ways.\n",
    "In a system of linear equations, we can directly solve for variables by inverting the coefficient matrix.\n",
    "However, for nonlinear systems, such direct inversion is not possible.\n",
    "Instead, the Newton-Raphson method provides an iterative approach, refining an initial guess using the Jacobian matrix of partial derivatives to approximate solutions.\n",
    "\n",
    "In astrophysics, this method is essential for modeling complex phenomena such as stellar structure, orbit determination, and radiative transfer.\n",
    "For example, in stellar structure modeling, equations governing temperature, pressure, and density must be solved simultaneously to describe a star's internal equilibrium.\n",
    "Similarly, in orbit determination, nonlinear gravitational interactions are iteratively solved to yield accurate trajectories of celestial bodies."
   ]
  },
  {
   "cell_type": "markdown",
   "id": "25",
   "metadata": {},
   "source": [
    "The Newton-Raphson method for solving systems of nonlinear equations $\\mathbf{f}(\\mathbf{x}) = 0$ proceeds as follows:\n",
    "1.  Define Initial Guess: Start with an initial vector $\\mathbf{x}^{(0)}$.\n",
    "2.  Compute the Jacobian Matrix $J$:\n",
    "    This matrix of partial derivatives represents the sensitivity of each equation with respect to each variable:\n",
    "    \\begin{align}\n",
    "    J(\\mathbf{x}) = \\begin{bmatrix}\n",
    "    \\frac{\\partial f_1}{\\partial x_1} & \\frac{\\partial f_1}{\\partial x_2} & \\dots & \\frac{\\partial f_1}{\\partial x_n} \\\\\n",
    "    \\frac{\\partial f_2}{\\partial x_1} & \\frac{\\partial f_2}{\\partial x_2} & \\dots & \\frac{\\partial f_2}{\\partial x_n} \\\\\n",
    "    \\vdots & \\vdots & \\ddots & \\vdots \\\\\n",
    "    \\frac{\\partial f_n}{\\partial x_1} & \\frac{\\partial f_n}{\\partial x_2} & \\dots & \\frac{\\partial f_n}{\\partial x_n}\n",
    "    \\end{bmatrix}\n",
    "    \\end{align}\n",
    "3.  Update Solution: Solve the linear system $J(\\mathbf{x}) \\Delta\\mathbf{x} = -\\mathbf{f}(\\mathbf{x})$ for the correction term $\\Delta \\mathbf{x}$ and update $\\mathbf{x}$ as:\n",
    "    \\begin{align}\n",
    "    \\mathbf{x}^{(n+1)} = \\mathbf{x}^{(n)} + \\Delta \\mathbf{x}.\n",
    "    \\end{align}\n",
    "4.  Check Convergence: Iterate until $\\|\\Delta \\mathbf{x}\\|$ or $\\|\\mathbf{f}(\\mathbf{x})\\|$ is below a specified tolerance."
   ]
  },
  {
   "cell_type": "code",
   "execution_count": null,
   "id": "26",
   "metadata": {},
   "outputs": [],
   "source": [
    "import numpy as np\n",
    "\n",
    "# Newton-Raphson method for systems\n",
    "def newton_system(F, J, X0, tol=1e-6, max_iter=100):\n",
    "    for _ in range(max_iter):\n",
    "        F0 = F(X0)\n",
    "        J0 = J(X0)\n",
    "        dX = np.linalg.solve(J0, -F0)\n",
    "        X  = X0 + dX\n",
    "        if np.linalg.norm(dX) < tol:\n",
    "            return X\n",
    "        X0 = X\n",
    "    raise ValueError(\"Maximum iterations reached without convergence\")"
   ]
  },
  {
   "cell_type": "markdown",
   "id": "27",
   "metadata": {},
   "source": [
    "Consider a simplified model with two hypothetical equations that could represent balance conditions in astrophysics:\n",
    "\\begin{align}\n",
    "\\begin{cases}\n",
    "f_1(x, y) = x^2 + y^2 - 4 = 0 \\\\\n",
    "f_2(x, y) = e^x + y - 1 = 0\n",
    "\\end{cases}\n",
    "\\end{align}"
   ]
  },
  {
   "cell_type": "code",
   "execution_count": null,
   "id": "28",
   "metadata": {},
   "outputs": [],
   "source": [
    "# Define the function vector\n",
    "def F(X):\n",
    "    return np.array([X[0]**2 + X[1]**2 - 4, np.exp(X[0]) + X[1] - 1])\n",
    "\n",
    "# Define the Jacobian matrix\n",
    "def J(X):\n",
    "    return np.array([[2 * X[0], 2 * X[1]], [np.exp(X[0]), 1]])\n",
    "\n",
    "# Example usage\n",
    "X0   = np.array([1.0, 1.0])\n",
    "Root = newton_system(F, J, X0)\n",
    "\n",
    "print(\"Approximate root:\")\n",
    "print(\"  R  = \",   Root )\n",
    "print(\"F(R) = \", F(Root))"
   ]
  },
  {
   "cell_type": "markdown",
   "id": "29",
   "metadata": {},
   "source": [
    "Similarly, we may take advantage of `JAX`'s autodifff to obtain the Jacobian:"
   ]
  },
  {
   "cell_type": "code",
   "execution_count": null,
   "id": "30",
   "metadata": {},
   "outputs": [],
   "source": [
    "from jax import jacfwd, numpy as jnp\n",
    "\n",
    "# Newton-Raphson method for systems\n",
    "def autonewton_system(F, X0, tol=1e-6, max_iter=100):\n",
    "    J = jacfwd(F)\n",
    "    for _ in range(max_iter):\n",
    "        F0 = F(X0)\n",
    "        J0 = J(X0)\n",
    "        dX = np.linalg.solve(J0, -F0)\n",
    "        X  = X0 + dX\n",
    "        if np.linalg.norm(dX) < tol:\n",
    "            return X\n",
    "        X0 = X\n",
    "    raise ValueError(\"Maximum iterations reached without convergence\")"
   ]
  },
  {
   "cell_type": "code",
   "execution_count": null,
   "id": "31",
   "metadata": {},
   "outputs": [],
   "source": [
    "# Define the function vector with `jnp`\n",
    "def F(X):\n",
    "    return jnp.array([X[0]**2 + X[1]**2 - 4, jnp.exp(X[0]) + X[1] - 1])\n",
    "\n",
    "# Example usage\n",
    "X0   = np.array([1.0, 1.0])\n",
    "Root = autonewton_system(F, X0)\n",
    "\n",
    "print(\"Approximate root:\")\n",
    "print(\"  R  = \",   Root )\n",
    "print(\"F(R) = \", F(Root))"
   ]
  },
  {
   "cell_type": "markdown",
   "id": "32",
   "metadata": {},
   "source": [
    "We introduced multiple root finding methods in this section.\n",
    "We covered the Bisection Method, a reliable but slower approach, and the more efficient Newton-Raphson Method, which converges quadratically but requires the function's derivative.\n",
    "We then discuss the Secant Method, which approximates the derivative, allowing it to bypass the need for explicit derivative calculations.\n",
    "For complicated applications, modern libraries like `JAX` provide tools to automatically differentiate functions, making methods like Newton-Raphson easier to implement even for complicated functions.\n",
    "These techniques are widely applicable in astrophysics, where precise root approximations are needed."
   ]
  }
 ],
 "metadata": {
  "kernelspec": {
   "display_name": "Python 3 (ipykernel)",
   "language": "python",
   "name": "python3"
  },
  "language_info": {
   "codemirror_mode": {
    "name": "ipython",
    "version": 3
   },
   "file_extension": ".py",
   "mimetype": "text/x-python",
   "name": "python",
   "nbconvert_exporter": "python",
   "pygments_lexer": "ipython3",
   "version": "3.12.6"
  }
 },
 "nbformat": 4,
 "nbformat_minor": 5
}
