{
 "cells": [
  {
   "cell_type": "markdown",
   "id": "0",
   "metadata": {},
   "source": [
    "# The C programming language"
   ]
  },
  {
   "cell_type": "markdown",
   "id": "1",
   "metadata": {},
   "source": [
    "## Introduction and Motivation\n",
    "\n",
    "Modern computational physics often demands both rapid prototyping and extreme computational efficiency.\n",
    "While Python offers clarity and rapid development, its interpreted nature can introduce performance bottlenecks in computation-heavy tasks.\n",
    "In this section, we discuss the historical context and practical reasons for incorporating the C programming language into your scientific computing toolbox."
   ]
  },
  {
   "cell_type": "markdown",
   "id": "2",
   "metadata": {},
   "source": [
    "### Why C?\n",
    "\n",
    "When this note is written, C and C++ are the 4th and 2nd popular programming lagnauges on the [TIOBE Index](https://www.tiobe.com/tiobe-index).\n",
    "There are many reasons contribute to its significance.\n",
    "\n",
    "![Ken Thompson (left) with Dennis Ritchie (right)](figures/Thompson+Ritchie.jpg)\n",
    "\n",
    "* **Historical Relevance and Impact**\n",
    "  * Birth of Unix and C:\n",
    "    C was developed in the early 1970s by Dennis Ritchie and played a critical role in the development of Unix.\n",
    "    Its influence persists in virtually every modern operating system and programming language.\n",
    "  * Foundational Influence:\n",
    "    Many languages (like C++, Java, and even Python's CPython interpreter) are built on principles originating in C.\n",
    "    Learning C gives you insight into the low-level operations that drive higher-level languages.\n",
    "\n",
    "* **Performance Benefits**\n",
    "  * Compiled Efficiency:\n",
    "    C is a compiled language, meaning the code is translated directly into machine code before execution.\n",
    "    This typically results in significant performance gains over interpreted languages.\n",
    "  * Memory Management:\n",
    "    With C, you have explicit control over memory allocation and deallocation.\n",
    "    This low-level control can be crucial for optimizing large-scale simulations and numerical computations in physics.\n",
    "  * Deterministic Behavior:\n",
    "    C's simplicity and control mean that you can predict performance characteristics more accurately.\n",
    "    For simulations or numerical integrations where timing and resource usage are critical, this predictability is a major advantage.\n",
    "\n",
    "* **Practical Applications in Computational Physics**\n",
    "  * High-Performance Libraries:\n",
    "    Many of the core libraries used in computational physics (e.g., BLAS, LAPACK, FFTW) are written in C or have C interfaces.\n",
    "    Understanding C can help you better leverage and even extend these libraries.\n",
    "  * Embedded and Real-Time Systems:\n",
    "    In areas like signal processing, control systems, and experimental setups, C is often the language of choice due to its speed and direct hardware interfacing.\n",
    "  * Scalable Simulations:\n",
    "    When simulations require thousands or millions of iterations (for example, in numerical integration of differential equations), the efficiency of C can be the difference between a simulation that runs in seconds versus one that runs in hours."
   ]
  },
  {
   "cell_type": "markdown",
   "id": "3",
   "metadata": {},
   "source": [
    "### When to Use C vs. Python\n",
    "\n",
    "* **Complementary Roles in Scientific Computing**\n",
    "  * Rapid Development vs. Execution Speed:\n",
    "  * Python excels at quickly writing, testing, and iterating on code.\n",
    "    Its syntax is clean and it offers a rich ecosystem for data manipulation and visualization.\n",
    "  * C excels at executing performance-critical tasks.\n",
    "    Once a prototype is validated in Python, rewriting the heavy computations in C (and call it from python) can drastically reduce runtime.\n",
    "\n",
    "* **Trade-offs and Synergy**\n",
    "  * Development Trade-offs:\n",
    "    While Python minimizes the time to prototype, its interpreted nature means that it can be slower for loop-intensive computations or tasks that require fine-grained memory control.\n",
    "    C, being low-level, requires more careful management of resources, but it pays off when performance is key.\n",
    "  * Hybrid Approaches:\n",
    "    In many scientific applications, a hybrid approach is used:\n",
    "    * C for \"Heavy Lifting\":\n",
    "      Writing the performance-critical portions (such as numerical integration, matrix operations, or simulation kernels) in C.\n",
    "    * Python for Scripting and Visualization:\n",
    "      Using Python to manage input/output, orchestrate simulations, and visualize results.\n",
    "    This division of labor allows you to benefit from the best of both worlds—rapid development and high performance.\n",
    "\n",
    "* **Example**\n",
    "  * Many of the popular simulation codes are written in C/C++, e.g.,\n",
    "    [Gadget](https://wwwmpa.mpa-garching.mpg.de/gadget4/),\n",
    "    [AthenaK](https://github.com/IAS-Astrophysics/athenak).\n",
    "  * While data visualization are written in python, e.g., [yt](https://yt-project.org/)."
   ]
  },
  {
   "cell_type": "markdown",
   "id": "4",
   "metadata": {},
   "source": [
    "## Quick Example\n",
    "\n",
    "To start with, let's compare directly a forward euler code written in Python and C:"
   ]
  },
  {
   "cell_type": "code",
   "execution_count": null,
   "id": "5",
   "metadata": {},
   "outputs": [],
   "source": [
    "# This is the simple forward Euler example we used in ODE I:\n",
    "# https://ua-2025q1-phys305.github.io/14/notes.html#example\n",
    "\n",
    "from matplotlib import pyplot as plt\n",
    "\n",
    "def forwardEuler(f, x, t, dt, n):\n",
    "    T = [t]\n",
    "    X = [x]\n",
    "    for i in range(n):\n",
    "        t += dt\n",
    "        x += f(x) * dt\n",
    "        T.append(t)\n",
    "        X.append(x)\n",
    "    return T, X\n",
    "\n",
    "def f(x):\n",
    "    return x\n",
    "\n",
    "Tpy, Xpy = forwardEuler(f, 1, 0, 0.1, 20)\n",
    "\n",
    "plt.plot(Tpy, Xpy, 'o-')\n",
    "plt.xlabel('t')\n",
    "plt.ylabel('x')"
   ]
  },
  {
   "cell_type": "markdown",
   "id": "6",
   "metadata": {},
   "source": [
    "To translate it to C, it becomes something like:\n",
    "```C\n",
    "/* Place the following code in \"example.c\" */\n",
    "\n",
    "#include <stdlib.h>\n",
    "#include <stdio.h>\n",
    "\n",
    "struct solution {\n",
    "\tdouble *T;\n",
    "\tdouble *X;\n",
    "};\n",
    "\n",
    "struct solution\n",
    "forward_Euler(double (*f)(double), double x, double t, double dt, int n)\n",
    "{\n",
    "\tdouble *T = (double *)malloc(sizeof(double) * (n+1));\n",
    "\tdouble *X = (double *)malloc(sizeof(double) * (n+1));\n",
    "\n",
    "\tT[0] = t;\n",
    "\tX[0] = x;\n",
    "\n",
    "\tfor(int i = 1; i <= n; ++i) {\n",
    "\t\tt += dt;\n",
    "\t\tx += f(x) * dt;\n",
    "\t\tT[i] = t;\n",
    "\t\tX[i] = x;\n",
    "\t}\n",
    "\n",
    "\tstruct solution s = {T, X};\n",
    "\treturn s;\n",
    "}\n",
    "\n",
    "void\n",
    "free_solution(struct solution s)\n",
    "{\n",
    "\tfree(s.T);\n",
    "\tfree(s.X);\n",
    "}\n",
    "\n",
    "double f(double x)\n",
    "{\n",
    "\treturn x;\n",
    "}\n",
    "\n",
    "int main(int argc, char *argv[])\n",
    "{\n",
    "\tint n = 20;\n",
    "\tstruct solution s = forward_Euler(f, 1, 0, 0.1, n);\n",
    "\n",
    "\tfor(int i = 0; i <= n; ++i)\n",
    "\t\tprintf(\"%f %f\\n\", s.T[i], s.X[i]);\n",
    "\n",
    "\tfree_solution(s);\n",
    "\n",
    "\treturn 0;\n",
    "}\n",
    "```"
   ]
  },
  {
   "cell_type": "markdown",
   "id": "7",
   "metadata": {},
   "source": [
    "This is not very elegant...\n",
    "But before we dive into the details of the code, let's try to run it.\n",
    "\n",
    "1. Copy and paste the above code block into a file called \"example.c\".\n",
    "2. Run `gcc example.c -o example` in your terminal.\n",
    "   You should a new file `example`.\n",
    "3. Run the code by `./example`.\n",
    "   It does not create any plot!\n",
    "   Instead, just a list of numbers.\n",
    "4. We may use python to create the plot.\n",
    "   But this requires first saving the output to a file.\n",
    "   Run `./example > data.txt`.\n",
    "   Here, `>` is the bash redirection operator.\n",
    "   It redirects the standard output of a program to a file.\n",
    "6. Once \"data.txt\" is created, run the following python cell:"
   ]
  },
  {
   "cell_type": "code",
   "execution_count": null,
   "id": "8",
   "metadata": {},
   "outputs": [],
   "source": [
    "from numpy import genfromtxt\n",
    "\n",
    "data = genfromtxt('data.txt')\n",
    "TC = data[:,0]\n",
    "XC = data[:,1]\n",
    "\n",
    "plt.plot(Tpy, Xpy, 'o-')\n",
    "plt.plot(TC,  XC,  '.-')\n",
    "plt.xlabel('t')\n",
    "plt.ylabel('x')"
   ]
  },
  {
   "cell_type": "markdown",
   "id": "9",
   "metadata": {},
   "source": [
    "The C result agrees with the python result, as expected.\n",
    "\n",
    "Let's now go through the compilation process and the code with more details."
   ]
  },
  {
   "cell_type": "markdown",
   "id": "10",
   "metadata": {},
   "source": [
    "## The C Programming Language"
   ]
  },
  {
   "cell_type": "markdown",
   "id": "11",
   "metadata": {},
   "source": [
    "The best places to learn C are:\n",
    "\n",
    "* [**The C Programming Language**](https://www.amazon.com/Programming-Language-2nd-Brian-Kernighan/dp/0131103628) by Brian W. Kernighan and Dennis M. Ritchie\n",
    "* The [C-FAQ](https://c-faq.com)\n",
    "* And high quanlity open source software including the [GNU Scientific Library](https://savannah.gnu.org/git/?group=gsl), [FFTW](https://github.com/FFTW/fftw3), and [Linux Kernel](https://github.com/torvalds/linux).\n",
    "\n",
    "Many \"modern C\" books are full of errors, especially memory management.\n",
    "Avoid them.\n",
    "\n",
    "![C Book](figures/C-book.jpg)"
   ]
  },
  {
   "cell_type": "markdown",
   "id": "12",
   "metadata": {},
   "source": [
    "### Python vs. C\n",
    "\n",
    "Both Python and C are powerful languages, but they differ fundamentally in design, usage, and performance.\n",
    "Here is a side-by-side comparison of common language constructs and a discussion of some deeper differences."
   ]
  },
  {
   "cell_type": "markdown",
   "id": "13",
   "metadata": {},
   "source": [
    "Python                     | C\n",
    ":--                        | :--\n",
    "`import package`           | `#include <package.h>` and then link with `gcc ... -lpackage`\n",
    "Dynamic type               | Static type `int`, `double`, `char []`\n",
    "`def func(): ...`          | `double func(double x) {...}`\n",
    "Must use indentation       | Indentation optional; use `{...}` for block\n",
    "New line for new statement | `;` to end a statement\n",
    "`print(x)`                 | `printf(\"%d\\n\", x);`\n",
    "`return x`                 | `return x;`\n",
    "`if x == 1: ... else: ...` | `if (x == 1) {...} else {...}`\n",
    "`for i in range(10): ...`  | `for (int i = 0; i < 10; ++i) {...}`\n",
    "`/` vs `//` for divisions  | `/` behavior depends on type\n",
    "`**` for power             | `#include <math.h>` and then use `pow(x, y)` for power; need to link with `gcc ... -lm`\n",
    "`# ...` for comments       | `/* ... */` or `// ...` for comments"
   ]
  },
  {
   "cell_type": "markdown",
   "id": "14",
   "metadata": {},
   "source": [
    "Deeper conceptual differences include:\n",
    "\n",
    "* Multiple Return Values:\n",
    "  * Python: Functions can return multiple values easily using tuples (e.g., `return (a, b, c)`).\n",
    "  * C: Lacks built-in support for returning multiple values.\n",
    "    You typically use pointers or define a struct to encapsulate multiple values.\n",
    "    Tip: When designing numerical routines in C, consider how data is structured (e.g., using an array of structs vs. a struct of arrays) for performance and clarity.\n",
    "\n",
    "* Memory Management:\n",
    "  * Python: Manages memory automatically using garbage collection, manual deallocation (my `del`) is usually not needed.\n",
    "  * C: Requires explicit memory management using functions like `malloc()` and `free()`.\n",
    "    This provides greater control (and responsibility) over resource use—critical in high-performance simulations, where memory overhead and access patterns can significantly affect performance.\n",
    "\n",
    "* Pointers:\n",
    "  * Python: Abstracts away memory addresses; you don't need to deal with pointers directly.\n",
    "  * C: Pointers are a fundamental concept, allowing you to directly manipulate memory.\n",
    "    Mastery of pointers is essential for efficient data structures, interfacing with hardware, and optimizing numerical algorithms.\n",
    "\n",
    "* Function Handling:\n",
    "  * Python: Functions are first-class citizens;\n",
    "    you can pass them around easily as arguments, return them from other functions, or store them in data structures.\n",
    "  * C: While it does not have first-class functions in the same sense, C uses function pointers to allow similar patterns.\n",
    "    Understanding function pointers is important for implementing callbacks and event-driven programming in low-level code.\n",
    "\n",
    "* Program Structure and Entry Point:\n",
    "  * Python: Code can run outside of functions and modules are executed as they are imported or run.\n",
    "  * C: Every program must have an int main() function as its entry point.\n",
    "    Although global variables are permitted, encapsulating logic within functions promotes better design and modularity."
   ]
  },
  {
   "cell_type": "markdown",
   "id": "15",
   "metadata": {},
   "source": [
    "## The Compilation Pipeline\n",
    "\n",
    "A typical C program goes through several stages before becoming an executable:\n",
    "* Preprocessing:\n",
    "  The preprocessor handles directives (lines beginning with #), such as #include and #define.\n",
    "  It expands macros and includes header files to produce a \"translation unit\" that is passed on to the compiler.\n",
    "* Compilation:\n",
    "  The compiler translates the preprocessed code into assembly language.\n",
    "  It checks the syntax and converts high-level constructs into low-level instructions.\n",
    "* Assembly:\n",
    "  The assembler converts the assembly code into machine code (object code) stored in object files (typically with a `.o` extension).\n",
    "* Linking:\n",
    "  The linker combines one or more object files along with necessary libraries into a single executable.\n",
    "  This step resolves external references (e.g., functions declared in libraries)."
   ]
  },
  {
   "cell_type": "markdown",
   "id": "16",
   "metadata": {},
   "source": [
    "Visual Flow:\n",
    "```\n",
    "Source Code (.c)\n",
    "    |\n",
    "    v  Preprocessing (gcc -E)\n",
    "Translation Unit (.i)\n",
    "    |\n",
    "    v  Compilation (gcc -S)\n",
    "Assembly Code (.s)\n",
    "    |\n",
    "    v  Assembly (gcc -c)\n",
    "Object File (.o)\n",
    "    |\n",
    "    v  Linking (gcc -o)\n",
    "Executable\n",
    "```"
   ]
  },
  {
   "cell_type": "markdown",
   "id": "17",
   "metadata": {},
   "source": [
    "Which we may run as:\n",
    "```bash\n",
    "gcc example.c -E > example.i\n",
    "gcc example.i -S\n",
    "gcc example.s -c\n",
    "gcc example.o -o example\n",
    "```"
   ]
  },
  {
   "cell_type": "markdown",
   "id": "18",
   "metadata": {},
   "source": [
    "### Using a C Compiler (e.g., gcc)\n",
    "\n",
    "The GNU Compiler Collection (gcc) is a popular tool for compiling C programs. Here’s a common command used to compile a C program:\n",
    "```bash\n",
    "gcc example.c -o example -Wall -O2 -g\n",
    "```"
   ]
  },
  {
   "cell_type": "markdown",
   "id": "19",
   "metadata": {},
   "source": [
    "Let's break down what each part does:\n",
    "* `example.c`:\n",
    "  The source file containing your C code.\n",
    "* `-o example`:\n",
    "  Specifies the name of the output executable.\n",
    "  Without this, gcc would default to an executable named `a.out`.\n",
    "* `-Wall`:\n",
    "  Enables all standard warnings.\n",
    "  This helps catch potential issues early, ensuring higher code quality.\n",
    "  I often also use `-Wextra` to print even more warnings.\n",
    "  It may also be useful to inclue `-Werror` to treat all warnings as errors.\n",
    "* `-O2`:\n",
    "  Applies level 2 optimizations to the code.\n",
    "  Optimization flags (`-O0`, `-O1`, `-O2`, `-O3`, or `-Ofast`) can greatly affect the performance of computationally intensive applications.\n",
    "  In computational physics, even small speed-ups are important when scaling up simulations.\n",
    "* `-g`:\n",
    "  Generates debugging information.\n",
    "  This is essential when using debugging tools like `gdb` to step through your code and diagnose issues."
   ]
  },
  {
   "cell_type": "markdown",
   "id": "20",
   "metadata": {},
   "source": [
    "On a Unix/Linux system,\n",
    "```bash\n",
    "ls /bin/lib\n",
    "```\n",
    "and you see a large number of files start with `lib`.\n",
    "These are libraries that contains binaries of useful functions.\n",
    "For example, `libm.so` include implementations of `sin()`, `cos()`, etc."
   ]
  },
  {
   "cell_type": "markdown",
   "id": "21",
   "metadata": {},
   "source": [
    "To use functions from a library, you first need to include a header file, e.g.,\n",
    "```c\n",
    "#include <math.h>\n",
    "```\n",
    "This will look for a file \"math.h\" in, typically, `/usr/include`.\n",
    "You then need to link the math library with `-lm`.\n",
    "Example:\n",
    "```bash\n",
    "gcc example.c -o example -Wall -O2 -lm\n",
    "```"
   ]
  },
  {
   "cell_type": "markdown",
   "id": "22",
   "metadata": {},
   "source": [
    "Many standard functions such as `malloc()`, `free()`, and `printf()`, are included in `libc`, which is linked by default.\n",
    "Hence, there is no need to use `-lc`.\n",
    "However, you are still require to inlcude the right header files such as `#include <stdlib.h>` and `#include <stdio.h>`."
   ]
  }
 ],
 "metadata": {
  "kernelspec": {
   "display_name": "Python 3 (ipykernel)",
   "language": "python",
   "name": "python3"
  },
  "language_info": {
   "codemirror_mode": {
    "name": "ipython",
    "version": 3
   },
   "file_extension": ".py",
   "mimetype": "text/x-python",
   "name": "python",
   "nbconvert_exporter": "python",
   "pygments_lexer": "ipython3",
   "version": "3.13.2"
  }
 },
 "nbformat": 4,
 "nbformat_minor": 5
}
