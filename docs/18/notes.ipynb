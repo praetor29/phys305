{
 "cells": [
  {
   "cell_type": "markdown",
   "id": "0",
   "metadata": {},
   "source": [
    "# Monte Carlo Methods I: Random Numbers and Random Walk"
   ]
  },
  {
   "cell_type": "markdown",
   "id": "1",
   "metadata": {},
   "source": [
    "Computational physics often begins with the notion that classical equations can perfectly predict the evolution of a system if one knows the initial conditions precisely.\n",
    "However, many real-world processes involve an inherent level of randomness or produce outcomes so sensitive to initial conditions that they effectively appear random.\n",
    "Radioactive decay, governed by quantum mechanics, is an example of truly non-deterministic behavior, whereas chaotic classical systems like the three-body problem can exhibit sensitive dependence on initial conditions.\n",
    "As a result, introducing randomness into our computational methods is not only natural for modeling genuinely stochastic systems but also highly advantageous even in deterministic settings."
   ]
  },
  {
   "cell_type": "markdown",
   "id": "2",
   "metadata": {},
   "source": [
    "Monte Carlo methods, which rely on random sampling to estimate quantities of interest, illustrate how such randomness can be leveraged as a powerful tool in numerical analysis.\n",
    "The phrase \"Monte Carlo\" alludes to the famous casino district in Monaco, highlighting the essence of \"gambling\" with random draws to tackle challenging problems.\n",
    "Since their popularization in mid-twentieth-century nuclear research, Monte Carlo algorithms have found widespread use in evaluating high-dimensional integrals, simulating physical processes in statistical mechanics, performing error analysis in data-driven fields, and more.\n",
    "\n",
    "![Monte Carlo](https://upload.wikimedia.org/wikipedia/commons/1/1b/Monaco_pano.jpg)"
   ]
  },
  {
   "cell_type": "markdown",
   "id": "3",
   "metadata": {},
   "source": [
    "Although real physical systems may exhibit genuine randomness (as seen in quantum events), computer algorithms generate numbers through deterministic procedures.\n",
    "These \"pseudo-random\" sequences are designed to mimic statistical randomness but are entirely reproducible given a specific initial seed.\n",
    "In practice, a well-crafted pseudo-random number generator can satisfy the statistical requirements of scientific simulations, especially if it has a sufficiently large period and low correlations across many dimensions. Modern generators such as the Mersenne Twister, PCG, and Xorshift provide excellent performance in these regards, far surpassing the simpler linear congruential generators of older programming standards."
   ]
  },
  {
   "cell_type": "markdown",
   "id": "4",
   "metadata": {},
   "source": [
    "## Pseudo-Random Number Generators (PRNGs)"
   ]
  },
  {
   "cell_type": "markdown",
   "id": "5",
   "metadata": {},
   "source": [
    "In computational physics, random draws are often produced by deterministic algorithms called pseudo-random number generators.\n",
    "These generators start from an internal seed and use a mathematical rule to transform it repeatedly, producing an output sequence that ideally appears random.\n",
    "Although each sequence is entirely predictable if one knows the seed and the algorithm, a good generator will avoid obvious patterns and pass stringent statistical tests."
   ]
  },
  {
   "cell_type": "markdown",
   "id": "6",
   "metadata": {},
   "source": [
    "### Congruential Generators\n",
    "\n",
    "Early implementations of pseudo-random number generators were often based on linear congruential generators. The simplest form of this approach looks something like\n",
    "\\begin{align}\n",
    "x_{n+1} = (a x_n + c) \\mathrm{\\ mod\\ } m,\n",
    "\\end{align}\n",
    "where $x_n$ represents the state at step $n$, and $a$, $c$, and $m$ are carefully chosen integers."
   ]
  },
  {
   "cell_type": "code",
   "execution_count": null,
   "id": "7",
   "metadata": {},
   "outputs": [],
   "source": [
    "# In order to understand the concept of a random number generator, let's implement one ourself.\n",
    "\n",
    "mynext = 1\n",
    "\n",
    "def myrand(): # NOT RECOMMENDED for real application.\n",
    "    global mynext # by default, python does not recognize variable in a different scope.\n",
    "    mynext = mynext * 1103515245 + 12345\n",
    "    return (mynext//65536) % 32768\n",
    "\n",
    "# This random number generator would generate integers in the domain [0, 32768).\n",
    "# This random is usually provided to user by\n",
    "\n",
    "MYRAND_MAX = 32768-1\n",
    "\n",
    "# There are reasons for choosing the strange constants.  Take a look at\n",
    "#     https://en.wikipedia.org/wiki/Linear_congruential_generator\n",
    "# if you are interested."
   ]
  },
  {
   "cell_type": "code",
   "execution_count": null,
   "id": "8",
   "metadata": {},
   "outputs": [],
   "source": [
    "# Now, every time we run `rand()`, we will get a different number\n",
    "\n",
    "myrand()"
   ]
  },
  {
   "cell_type": "code",
   "execution_count": null,
   "id": "9",
   "metadata": {},
   "outputs": [],
   "source": [
    "# We may just print many of them at the same time:\n",
    "\n",
    "Rs = [myrand() for i in range(100)]\n",
    "print(Rs)"
   ]
  },
  {
   "cell_type": "code",
   "execution_count": null,
   "id": "10",
   "metadata": {},
   "outputs": [],
   "source": [
    "# Sometime it is useful to make sure your random number sequence remains the same.\n",
    "# In our case, you may notice that we can simply reset the `mynext` global variable to reset the sequence.\n",
    "# The value you put in `mynext` is often called the \"seed\".\n",
    "\n",
    "print('The following two lists are not the same:')\n",
    "print([myrand() for i in range(10)])\n",
    "print([myrand() for i in range(10)])\n",
    "\n",
    "print('We may ensure that they are the same by \"seeding\" the random number generator with a fixed value:')\n",
    "\n",
    "mynext = 1234\n",
    "print([myrand() for i in range(10)])\n",
    "\n",
    "mynext = 1234\n",
    "print([myrand() for i in range(10)])"
   ]
  },
  {
   "cell_type": "code",
   "execution_count": null,
   "id": "11",
   "metadata": {},
   "outputs": [],
   "source": [
    "# We may even plot the random numbers\n",
    "\n",
    "from matplotlib import pyplot as plt\n",
    "\n",
    "ll = [[myrand() for i in range(100)] for j in range(100)]\n",
    "plt.imshow(ll)"
   ]
  },
  {
   "cell_type": "markdown",
   "id": "12",
   "metadata": {},
   "source": [
    "This random number generator is very simple and is the *sample* implementation in many ANSI C libraries!\n",
    "However, because how the standard was written, this create a lot problems.\n",
    "* The standard only require `RAND_MAX` be at least 32767.\n",
    "  If one want to evulate 1e6 points (which is pretty small, as we will see below), you will actually be evaluating the same 32768 points 30 times each!\n",
    "* Some implementation \"tried\" to imporve the algorithm, e.g., swapping the lower and higher bytes.\n",
    "  But these tricks sometime ruins the generator!\n",
    "* Integrating high-dimension space is an important application of Monte Carlo methods.\n",
    "  However, the congruential generators create correlation in k-space."
   ]
  },
  {
   "cell_type": "markdown",
   "id": "13",
   "metadata": {},
   "source": [
    "When programming in Python, we often take advantage of the built-in random module or NumPy's random subpackage, both of which default to high-quality generators (the Mersenne Twister for Python's default, and similarly robust methods in NumPy).\n",
    "We can seed these generators manually to ensure reproducible research, or we may allow them to seed automatically for convenience.\n",
    "While these generators generally suffice for undergraduate-level simulations, more intricate studies---particularly those involving very large datasets or extremely sensitive measurements---may require advanced or specialized libraries for best results."
   ]
  },
  {
   "cell_type": "markdown",
   "id": "14",
   "metadata": {},
   "source": [
    "### Python's Random Number Library\n",
    "\n",
    "We start by trying python's random number library.\n",
    "It is implemented in a very traditional way, which relies on a global seed and \"procedure\" programming style:"
   ]
  },
  {
   "cell_type": "code",
   "execution_count": null,
   "id": "15",
   "metadata": {},
   "outputs": [],
   "source": [
    "import random as pyr\n",
    "\n",
    "print(pyr)\n",
    "pyr.seed(0)\n",
    "\n",
    "print(pyr.random())           # return a random float in the range [0,1)\n",
    "print(pyr.randrange(100))     # return a random int in the range [0, stop)\n",
    "print(pyr.randint(a=0,b=99))  # return a random int in the range [a, b+1); alias for randrange(a, b+1)"
   ]
  },
  {
   "cell_type": "markdown",
   "id": "16",
   "metadata": {},
   "source": [
    "### Numpy's Random Number Module\n",
    "\n",
    "Next, we  Let's now try numpy's random number module.\n",
    "It can also be used with a global seed.\n",
    "However, for modern applications, it is often better to use object oriented (OO) approach, where the random number generator's state is stored in an object.\n",
    "This allows one to create multiple random number generators in a single application."
   ]
  },
  {
   "cell_type": "code",
   "execution_count": null,
   "id": "17",
   "metadata": {},
   "outputs": [],
   "source": [
    "import numpy as np\n",
    "\n",
    "npr = np.random.default_rng(seed=0)\n",
    "print(npr)\n",
    "\n",
    "print(npr.random())                               # return a random float in the range [0,1)\n",
    "print(npr.integers(low=0,high=99))                # return a random int in the range [low, high)\n",
    "print(npr.integers(low=0,high=99,endpoint=True))  # return a random int in the range [low, high] = [low, high+1) for int"
   ]
  },
  {
   "cell_type": "markdown",
   "id": "18",
   "metadata": {},
   "source": [
    "### JAX's Random Number Module\n",
    "\n",
    "Although numpy's OO approach is already an improvement, it can create ugly bugs for parallel algorithm.\n",
    "Accelerated by GPU, JAX takes a functional programming apporach.\n",
    "The random number generator's state is stored in a \"key\" object.\n",
    "The key is then passed into a jax function to generate random numbers."
   ]
  },
  {
   "cell_type": "code",
   "execution_count": null,
   "id": "19",
   "metadata": {},
   "outputs": [],
   "source": [
    "from jax import random as jxr\n",
    "\n",
    "key = jxr.key(seed=0)\n",
    "print(key)\n",
    "\n",
    "print(jxr.uniform(key))                           # return a random float in the range [0,1)\n",
    "print(jxr.randint(key, (), minval=0, maxval=99))  # return a random int in the range [minval, maxval)"
   ]
  },
  {
   "cell_type": "markdown",
   "id": "20",
   "metadata": {},
   "source": [
    "Note that, unlike `numpy`, the same key always return the same random number:"
   ]
  },
  {
   "cell_type": "code",
   "execution_count": null,
   "id": "21",
   "metadata": {},
   "outputs": [],
   "source": [
    "print(jxr.uniform(key))\n",
    "print(jxr.uniform(key))\n",
    "print(jxr.uniform(key))\n",
    "print(jxr.uniform(key))"
   ]
  },
  {
   "cell_type": "markdown",
   "id": "22",
   "metadata": {},
   "source": [
    "If we need a new random number, we can use `split()` to generate new subkeys:"
   ]
  },
  {
   "cell_type": "code",
   "execution_count": null,
   "id": "23",
   "metadata": {},
   "outputs": [],
   "source": [
    "key, subkey = jxr.split(key)\n",
    "print(key)\n",
    "print(subkey)\n",
    "print(jxr.uniform(subkey))\n",
    "print(jxr.uniform(subkey))"
   ]
  },
  {
   "cell_type": "code",
   "execution_count": null,
   "id": "24",
   "metadata": {},
   "outputs": [],
   "source": [
    "key, subkey = jxr.split(key)\n",
    "print(key)\n",
    "print(subkey)\n",
    "print(jxr.uniform(subkey))\n",
    "print(jxr.uniform(subkey))"
   ]
  },
  {
   "cell_type": "markdown",
   "id": "25",
   "metadata": {},
   "source": [
    "### Array of Random Numbers\n",
    "\n",
    "For both numpy and JAX, it is simple to create an array of random numbers:"
   ]
  },
  {
   "cell_type": "code",
   "execution_count": null,
   "id": "26",
   "metadata": {},
   "outputs": [],
   "source": [
    "ll2 = npr.random(size=(100,100))\n",
    "ll3 = jxr.uniform(key, shape=(100,100))"
   ]
  },
  {
   "cell_type": "code",
   "execution_count": null,
   "id": "27",
   "metadata": {},
   "outputs": [],
   "source": [
    "from matplotlib import pyplot as plt\n",
    "\n",
    "fig, (ax0, ax1, ax2) = plt.subplots(1, 3, figsize=(9,3))\n",
    "ax0.imshow(ll)\n",
    "ax1.imshow(ll2)\n",
    "ax2.imshow(ll3)"
   ]
  },
  {
   "cell_type": "markdown",
   "id": "28",
   "metadata": {},
   "source": [
    "## Drawing Random Numbers from Distributions\n",
    "\n",
    "The random numbers we generated so far, including the ones from our own congruential generator, can be seen as a \"random variable\" draw from a **uniform distribution**."
   ]
  },
  {
   "cell_type": "code",
   "execution_count": null,
   "id": "29",
   "metadata": {},
   "outputs": [],
   "source": [
    "# We may plot the results of these random number generators\n",
    "\n",
    "fig, (ax0, ax1, ax2) = plt.subplots(1, 3, figsize=(9,3))\n",
    "ax0.hist(npr.random(1000))\n",
    "ax1.hist(npr.random(1000))\n",
    "ax2.hist(npr.random(1000))"
   ]
  },
  {
   "cell_type": "markdown",
   "id": "30",
   "metadata": {},
   "source": [
    "However, many physical phenomena and statistical models require samples from specific probability distributions.\n",
    "These range from exponential and Poisson processes in radioactive decay to Maxwell–Boltzmann velocity distributions in statistical mechanics.\n",
    "A variety of sampling or transformation techniques exist to convert uniform random numbers into draws from virtually any target distribution."
   ]
  },
  {
   "cell_type": "markdown",
   "id": "31",
   "metadata": {},
   "source": [
    "### Inverse Transform Method\n",
    "\n",
    "The inverse transform method is a basic technique for generating random numbers drawn from a specified distribution.\n",
    "Suppose we have a continuous random variable $X$ with probability density function $f(x)$ and corresponding cumulative distribution function $F(x)$.\n",
    "The method begins by noting that if $U$ is a uniform random variable on the interval $[0, 1)$, then the random variable $X = F^{-1}(U)$ follows the distribution described by $f(x)$.\n",
    "In other words, the inverse of the CDF effectively maps uniform deviates to the desired target distribution."
   ]
  },
  {
   "cell_type": "markdown",
   "id": "32",
   "metadata": {},
   "source": [
    "To illustrate the procedure, consider the exponential distribution with a rate parameter $\\lambda$.\n",
    "Its probability density function is\n",
    "\\begin{align}\n",
    "f(x) = \\lambda\\,e^{-\\lambda x}, \\quad x \\ge 0,\n",
    "\\end{align}\n",
    "and the cumulative distribution function is\n",
    "\\begin{align}\n",
    "F(x) = 1 - e^{-\\lambda x}.\n",
    "\\end{align}\n",
    "Because $F(x)$ is invertible, the inverse function is\n",
    "\\begin{align}\n",
    "F^{-1}(u) = -\\frac{1}{\\lambda} \\ln\\bigl(1 - u\\bigr).\n",
    "\\end{align}\n",
    "Thus, if $u$ is drawn uniformly from $[0,1)$, then\n",
    "\\begin{align}\n",
    "x = -\\frac{1}{\\lambda}\\,\\ln\\bigl(1 - u\\bigr)\n",
    "\\end{align}\n",
    "is an exponentially distributed random variable with parameter $\\lambda$.\n",
    "One may equivalently use $\\ln(u)$ instead of $\\ln(1 - u)$ since $u$ is uniform over $[0,1)$."
   ]
  },
  {
   "cell_type": "code",
   "execution_count": null,
   "id": "33",
   "metadata": {},
   "outputs": [],
   "source": [
    "def inverse(u, lmbda, N=1000):\n",
    "    return -np.log(1 - u) / lmbda"
   ]
  },
  {
   "cell_type": "code",
   "execution_count": null,
   "id": "34",
   "metadata": {},
   "outputs": [],
   "source": [
    "# Parameters:\n",
    "lmbda = 1.0\n",
    "N     = 10000\n",
    "\n",
    "# Generate samples via our inverse transform function:\n",
    "u = np.random.rand(N)\n",
    "x = inverse(u, lmbda)\n",
    "\n",
    "# Generate samples via NumPy's built-in exponential:\n",
    "x_np = np.random.exponential(scale=1/lmbda, size=N)"
   ]
  },
  {
   "cell_type": "code",
   "execution_count": null,
   "id": "35",
   "metadata": {},
   "outputs": [],
   "source": [
    "# Plot histograms for comparison:\n",
    "X = np.linspace(0, 10)\n",
    "Y = lmbda * np.exp(-lmbda * X)\n",
    "\n",
    "fig, (ax0, ax1) = plt.subplots(1, 2, figsize=(6,3))\n",
    "\n",
    "ax0.hist(x,   bins=100, density=True, alpha=0.6, label='Inverse Transform')\n",
    "ax0.plot(X, Y)\n",
    "ax0.set_title('Inverse Transform Samples')\n",
    "ax0.set_xlabel('x')\n",
    "ax0.set_ylabel('Probability Density')\n",
    "\n",
    "ax1.hist(x_np, bins=100, density=True, alpha=0.6, label='NumPy Exponential')\n",
    "ax1.plot(X, Y)\n",
    "ax1.set_title('NumPy Exponential Samples')\n",
    "ax1.set_xlabel('x')\n",
    "ax1.set_ylabel('Probability Density')\n",
    "\n",
    "fig.tight_layout()"
   ]
  },
  {
   "cell_type": "markdown",
   "id": "36",
   "metadata": {},
   "source": [
    "### Rejection Method\n",
    "\n",
    "Sometimes, we need to sample from a probability distribution whose cumulative distribution function is difficult or impossible to invert analytically.\n",
    "In these cases, the rejection method (also called the acceptance–rejection method) provides a flexible alternative.\n",
    "The key is to find a simple \"proposal\" distribution that we can easily sample from but that encloses the shape of our target distribution.\n",
    "If we sample points under the proposal distribution and then reject those that would exceed the desired probability density, the remaining accepted points follow the intended target distribution."
   ]
  },
  {
   "cell_type": "markdown",
   "id": "37",
   "metadata": {},
   "source": [
    "To set up the rejection method, we need three main ingredients:\n",
    "\n",
    "1. A probability density function $f(x)$ for the target distribution, defined on some interval or possibly $\\mathbb{R}$.\n",
    "2. A proposal distribution $g(x)$ that we can sample from easily (e.g., a uniform or Gaussian), along with a constant $C$ such that\n",
    "   \\begin{align}\n",
    "   f(x) \\le C\\,g(x) \\quad \\text{for all valid }x.\n",
    "   \\end{align}\n",
    "   This inequality ensures the proposal distribution \"covers\" or \"bounds\" the entire shape of $f(x)$.\n",
    "4. A procedure to accept or reject each random draw based on how likely it is to come from $f(x)$."
   ]
  },
  {
   "cell_type": "markdown",
   "id": "38",
   "metadata": {},
   "source": [
    "The algorithm proceeds as follows:\n",
    "1. Generate a random value $X$ according to the proposal distribution $g(x)$.\n",
    "2. Generate a uniform random number $U \\in [0,1)$.\n",
    "3. Accept $X$ if\n",
    "   \\begin{align}\n",
    "   U \\le \\frac{f(X)}{C\\,g(X)},\n",
    "   \\end{align}\n",
    "   otherwise reject $X$ and repeat."
   ]
  },
  {
   "cell_type": "markdown",
   "id": "39",
   "metadata": {},
   "source": [
    "Although conceptually simple, the rejection method's efficiency depends on how well the proposal distribution and scaling factor $C$ approximate the shape of $f(x)$.\n",
    "A poorly chosen $g(x)$ or a large $C$ can cause excessive rejections, slowing the simulation.\n",
    "On the other hand, almost any properly bounded PDF $f(x)$ is amenable to the rejection method, making it valuable for distributions that are hard to invert analytically."
   ]
  },
  {
   "cell_type": "markdown",
   "id": "40",
   "metadata": {},
   "source": [
    "Below is an example using a bimodal distribution with two Gaussian \"peaks\" on the interval [0,5]:\n",
    "\\begin{align}\n",
    "f(x) = \\exp\\Bigl(-\\frac{(x-1.5)^2}{0.1}\\Bigr) \\;+\\; \\exp\\!\\Bigl(-\\frac{(x-3.5)^2}{0.1}\\Bigr),\n",
    "\\quad\n",
    "x \\in [0,5],\n",
    "\\end{align}\n",
    "and treat values outside $[0,5]$ as zero.\n",
    "We will numerically find the normalization constant $Z$ so that\n",
    "\\begin{align}\n",
    "f(x) \\;=\\;\\frac{f(x)}{Z}\n",
    "\\end{align}\n",
    "becomes a proper PDF.\n",
    "As our proposal distribution, we will use a uniform $\\text{Uniform}(0,5)$, whose PDF is $g(x)=\\frac{1}{5}$ for $0 \\le x \\le 5$.\n",
    "Finally, we will pick $C$ so that $f(x) \\le C\\,g(x)$ holds for all $x\\in[0,5]$."
   ]
  },
  {
   "cell_type": "code",
   "execution_count": null,
   "id": "41",
   "metadata": {},
   "outputs": [],
   "source": [
    "# Define the unnormalized target PDF (bimodal).\n",
    "def bimodal_unnorm(x):\n",
    "    if x < 0 or x > 5:\n",
    "        return 0.0\n",
    "    # Two Gaussian \"lumps\" centered at 1.5 and 3.5\n",
    "    return np.exp(-(x - 1.5)**2 / 0.1) + np.exp(-(x - 3.5)**2 / 0.1)"
   ]
  },
  {
   "cell_type": "code",
   "execution_count": null,
   "id": "42",
   "metadata": {},
   "outputs": [],
   "source": [
    "# Numerically compute the normalization constant Z\n",
    "def norm(num_points=10001):\n",
    "    xs = np.linspace(0, 5, num_points)\n",
    "    vals = [bimodal_unnorm(x) for x in xs]\n",
    "    # Use the trapezoidal rule to approximate the integral\n",
    "    return np.trapezoid(vals, xs)\n",
    "\n",
    "Z = norm()\n",
    "print(f\"Normalization constant Z = {Z:.4f}\")"
   ]
  },
  {
   "cell_type": "code",
   "execution_count": null,
   "id": "43",
   "metadata": {},
   "outputs": [],
   "source": [
    "# Compute the maximum of f(x) so we can choose C*g(x) appropriately\n",
    "def bimodal_pdf(x):\n",
    "    return bimodal_unnorm(x) / Z"
   ]
  },
  {
   "cell_type": "code",
   "execution_count": null,
   "id": "44",
   "metadata": {},
   "outputs": [],
   "source": [
    "xs = np.linspace(0, 5, 10001)\n",
    "fs = np.array([bimodal_pdf(x) for x in xs])\n",
    "\n",
    "maxf = max(fs)\n",
    "print(f\"Max of bimodal PDF on [0,5] = {maxf:.4f}\")"
   ]
  },
  {
   "cell_type": "code",
   "execution_count": null,
   "id": "45",
   "metadata": {},
   "outputs": [],
   "source": [
    "# Our proposal is uniform(0,5), so g(x) = 1/5, 0 <= x <= 5\n",
    "# We need C so that f(x) <= C*g(x) = C*(1/5).\n",
    "# The maximum of f(x)/(1/5) = 5*maxf.  We can set C = 5*maxf.\n",
    "\n",
    "C = 5 * maxf\n",
    "print(f\"Chosen C = {C:.4f}\")"
   ]
  },
  {
   "cell_type": "code",
   "execution_count": null,
   "id": "46",
   "metadata": {},
   "outputs": [],
   "source": [
    "# Rejection sampling\n",
    "def bimodal_rejection(n=10000):\n",
    "    samples = []\n",
    "    n_draws = 0\n",
    "    while len(samples) < n:\n",
    "        # Step 1: draw from proposal Uniform(0,5)\n",
    "        x_prop = 5 * np.random.rand()\n",
    "        \n",
    "        # Step 2: draw a uniform U in [0,1)\n",
    "        U = np.random.rand()\n",
    "        \n",
    "        # Step 3: accept/reject\n",
    "        # Accept if U <= f(x_prop) / (C*g(x_prop)) = f(x_prop) / (C*(1/5)) = [5*f(x_prop)] / C\n",
    "        if U <= (5 * bimodal_pdf(x_prop) / C):\n",
    "            samples.append(x_prop)\n",
    "        n_draws += 1\n",
    "    \n",
    "    acc_ratio = n / n_draws\n",
    "    return np.array(samples), acc_ratio\n",
    "\n",
    "# Generate samples\n",
    "N = 10000\n",
    "samples, acc_ratio = bimodal_rejection(N)\n",
    "print(f\"Acceptance ratio: {acc_ratio:.2f}\")\n",
    "\n",
    "# 5. Plot the results\n",
    "plt.figure(figsize=(7,5))\n",
    "plt.hist(samples, bins=100, range=(0,5), density=True, alpha=0.6, label='Rejection Samples')\n",
    "\n",
    "plt.plot(xs, fs, label='Bimodal PDF')\n",
    "plt.title('Rejection Method for a Bimodal Distribution')\n",
    "plt.xlabel('x')\n",
    "plt.ylabel('Probability Density')\n",
    "plt.legend()"
   ]
  },
  {
   "cell_type": "markdown",
   "id": "47",
   "metadata": {},
   "source": [
    "### Generating Gaussian Distributions with Box–Muller Transform\n",
    "\n",
    "Many physical processes often assume that noise or fluctuations follow a Gaussian (normal) distribution.\n",
    "While Python (and many other languages) has built-in functions to generate normally distributed random numbers, it is informative to see how these values can be constructed directly from uniform deviates.\n",
    "The Box–Muller transform is a classical algorithm to achieve this."
   ]
  },
  {
   "cell_type": "markdown",
   "id": "48",
   "metadata": {},
   "source": [
    "The Box-Muller transform relies on generating two independent standard normal variables $(Z_1, Z_2)$ from two independent uniform variables $(U_1, U_2)$ on the interval $[0,1)$.\n",
    "The key insight is to consider a point drawn uniformly inside the unit square $(U_1,U_2)$ and map it to polar coordinates to produce values in the unit circle.\n",
    "The derivation in brief:\n",
    "1. Generate $U_1, U_2 \\sim \\text{Uniform}(0,1)$.\n",
    "2. Let\n",
    "   \\begin{align}\n",
    "   R = \\sqrt{-2 \\ln(U_1)}, \\quad \\Theta = 2\\pi U_2.\n",
    "   \\end{align}\n",
    "3. Define\n",
    "   \\begin{align}\n",
    "   Z_1 = R \\cos(\\Theta), \\quad Z_2 = R \\sin(\\Theta).\n",
    "   \\end{align}\n",
    "\n",
    "These two variables $(Z_1, Z_2)$ are then independent and each follows $\\mathcal{N}(0,1)$, i.e., a standard normal distribution.\n",
    "\n",
    "The factor $\\sqrt{-2 \\ln(U_1)}$ corresponds to sampling a radial distance from a 2D exponential distribution that matches the Gaussian shape in polar coordinates, while $2\\pi U_2$ selects a random angle uniformly."
   ]
  },
  {
   "cell_type": "code",
   "execution_count": null,
   "id": "49",
   "metadata": {},
   "outputs": [],
   "source": [
    "def box_muller(n_samples=10000):\n",
    "    # U1, U2 are uniform(0,1)\n",
    "    U1 = np.random.rand(n_samples)\n",
    "    U2 = np.random.rand(n_samples)\n",
    "    \n",
    "    # Apply the Box–Muller formulas\n",
    "    R = np.sqrt(-2.0 * np.log(U1))\n",
    "    Theta = 2.0 * np.pi * U2\n",
    "    \n",
    "    Z1 = R * np.cos(Theta)\n",
    "    Z2 = R * np.sin(Theta)\n",
    "    \n",
    "    return Z1, Z2\n",
    "\n",
    "# Let's generate samples and plot their distribution:\n",
    "Z1, Z2 = box_muller(n_samples=50000)  # 50k samples\n",
    "\n",
    "X = np.linspace(-5, 5)\n",
    "Y = np.exp(-X*X/2) / np.sqrt(2 * np.pi)\n",
    "\n",
    "plt.hist(Z1, bins=100, density=True, alpha=0.5, label='Box–Muller Z1')\n",
    "plt.hist(Z2, bins=100, density=True, alpha=0.5, label='Box–Muller Z2')\n",
    "plt.plot(X, Y, label='Gaussian')\n",
    "plt.title('Box–Muller Generated Gaussian')\n",
    "plt.xlabel('Value')\n",
    "plt.ylabel('Probability Density')\n",
    "plt.legend()"
   ]
  },
  {
   "cell_type": "markdown",
   "id": "50",
   "metadata": {},
   "source": [
    "## Random Walk\n",
    "\n",
    "Random walk is the minimal model to understand diffusion, Brownian motion, and a host of other physical processes that involve randomness.\n",
    "The basic idea is that a particle (or person, in the \"drunkard's walk\" analogy) takes discrete steps in one dimension, moving either left or right with equal probability.\n",
    "Over many steps, the trajectory becomes a record of these random increments.\n",
    "In physics, random walks underlie the theoretical description of diffusion: particles jitter around in a fluid or gas, moving unpredictably due to collisions.\n",
    "Mathematically, random walks also illustrate many foundational stochastic concepts, including how deviations grow with time and why the distribution of positions tends to be bell-shaped over many steps."
   ]
  },
  {
   "cell_type": "markdown",
   "id": "51",
   "metadata": {},
   "source": [
    "### Physical and Mathematical Background\n",
    "\n",
    "Imagine a person standing at position $x = 0$.\n",
    "At each time step, the person flips a fair coin:\n",
    "* If the coin is heads, they step one unit to the left (+1 if we define left as the positive direction, or -1 if we define left as negative).\n",
    "* If the coin is tails, they step one unit in the opposite direction.\n",
    "Over $n$ steps, each move is chosen with probability $1/2$.\n",
    "Because these steps are independent, the expected value of the person's position remains zero, but the spread or standard deviation of the position grows with the square root of time $(\\sigma \\propto \\sqrt{n})$.\n",
    "This is a fundamental result related to diffusion and the Central Limit Theorem."
   ]
  },
  {
   "cell_type": "markdown",
   "id": "52",
   "metadata": {},
   "source": [
    "Key quantitites for random walk are:\n",
    "* Mean (average) displacement: $\\langle X_n \\rangle$.\n",
    "  For an unbiased random walk, this remains zero.\n",
    "* Root mean square (rms) displacement: $\\sqrt{\\langle X_n^2 \\rangle}$.\n",
    "  This value grows like $\\sqrt{n}$, which explains why random walkers gradually drift away from the origin over time."
   ]
  },
  {
   "cell_type": "markdown",
   "id": "53",
   "metadata": {},
   "source": [
    "As $n$ becomes large, if we rescale by $\\Delta x$ and $\\Delta t$, the random walk converges to the diffusion equation in the continuum limit.\n",
    "In one dimension, the diffusion equation is\n",
    "\\begin{align}\n",
    "\\frac{\\partial \\rho}{\\partial t} = D \\frac{\\partial^2 \\rho}{\\partial x^2},\n",
    "\\end{align}\n",
    "where $D$ is the diffusion coefficient.\n",
    "Physically, this underlies processes like heat conduction and Brownian motion of particles in a fluid, as we learned in solving the heat equation in numerical linear algebra."
   ]
  },
  {
   "cell_type": "markdown",
   "id": "54",
   "metadata": {},
   "source": [
    "### Python Implementation"
   ]
  },
  {
   "cell_type": "code",
   "execution_count": null,
   "id": "55",
   "metadata": {},
   "outputs": [],
   "source": [
    "# Let's setup random walk in the following way:\n",
    "\n",
    "T = range(1000+1)\n",
    "X = [0] # initial position\n",
    "\n",
    "for t in T[1:]:\n",
    "    last = X[-1]            # last position\n",
    "    r    = pyr.randint(0,1) # we generate 0 or 1 randomly\n",
    "    if r == 0:              # depending on r, we step left or right\n",
    "        curr = last + 1\n",
    "    else:\n",
    "        curr = last - 1\n",
    "    X.append(curr)          # append the current position to the list X\n",
    "\n",
    "# We may plot this random walk\n",
    "plt.plot(T, X)\n",
    "plt.show() # optional if you use Jupyter Notebook"
   ]
  },
  {
   "cell_type": "markdown",
   "id": "56",
   "metadata": {},
   "source": [
    "Awesome!\n",
    "But in order to find out how random walk behave statistically, we want to be able to run many simulations!\n",
    "\n",
    "Hence, it is convenient to define a function:"
   ]
  },
  {
   "cell_type": "code",
   "execution_count": null,
   "id": "57",
   "metadata": {},
   "outputs": [],
   "source": [
    "def randomwalk(n_steps=1000):\n",
    "    X = [0] # initial position\n",
    "    \n",
    "    for t in range(n_steps):\n",
    "        last = X[-1]            # last position\n",
    "        r    = pyr.randint(0,1) # we generate 0 or 1 randomly\n",
    "        if r == 0:              # depending on r, we step left or right\n",
    "            curr = last + 1\n",
    "        else:\n",
    "            curr = last - 1    \n",
    "        X.append(curr)          # append the current position to the list X\n",
    "        \n",
    "    return X                    # return the result"
   ]
  },
  {
   "cell_type": "code",
   "execution_count": null,
   "id": "58",
   "metadata": {},
   "outputs": [],
   "source": [
    "# And we can use this function in another loop.\n",
    "for i in range(10):\n",
    "    plt.plot(randomwalk())"
   ]
  },
  {
   "cell_type": "markdown",
   "id": "59",
   "metadata": {},
   "source": [
    "We may now ask how far away the person would walk depending on the number of stpes."
   ]
  },
  {
   "cell_type": "code",
   "execution_count": null,
   "id": "60",
   "metadata": {},
   "outputs": [],
   "source": [
    "absX = []\n",
    "for t in T:\n",
    "    X = randomwalk(t)\n",
    "    absX.append(abs(X[-1]))\n",
    "\n",
    "plt.plot(absX)"
   ]
  },
  {
   "cell_type": "markdown",
   "id": "61",
   "metadata": {},
   "source": [
    "Clearly, the distance gets farther when the number of steps increase.\n",
    "But this figure is too noisy to read off the dependency.\n",
    "\n",
    "There are multiple ways to make the above figure less noisy.\n",
    "One way is to simply do multiple numerical experiments for the same number of steps.\n",
    "And obtain the average distance."
   ]
  },
  {
   "cell_type": "markdown",
   "id": "62",
   "metadata": {},
   "source": [
    "We can also plot this in log-log scale and compare it with the law of diffusion $D \\sim \\sqrt{T}$."
   ]
  },
  {
   "cell_type": "code",
   "execution_count": null,
   "id": "63",
   "metadata": {},
   "outputs": [],
   "source": [
    "n_trials = 100\n",
    "X = []\n",
    "for t in T:\n",
    "    S = 0\n",
    "    for _ in range(n_trials):\n",
    "        S += abs(randomwalk(t)[-1])\n",
    "    X.append(S / n_trials)\n",
    "    \n",
    "plt.plot(X)"
   ]
  },
  {
   "cell_type": "markdown",
   "id": "64",
   "metadata": {},
   "source": [
    "We can also plot this in log-log scale and compare it with the law of diffusion $D ~ sqrt(T)$."
   ]
  },
  {
   "cell_type": "code",
   "execution_count": null,
   "id": "65",
   "metadata": {},
   "outputs": [],
   "source": [
    "plt.loglog(T, X)\n",
    "plt.plot(T, [t**0.5 for t in T])"
   ]
  },
  {
   "cell_type": "markdown",
   "id": "66",
   "metadata": {},
   "source": [
    "## 2D Random Walk and Brownian Motion\n",
    "\n",
    "Random walks extend naturally from one dimension to two (or more) dimensions.\n",
    "In two dimensions, we can imagine a particle in a plane taking steps in $x$ and $y$ directions.\n",
    "Each step can be independent in both axes, or it can be chosen randomly in angle and magnitude.\n",
    "This extension provides a convenient model for Brownian motion, a phenomenon describing how small particles suspended in a fluid move erratically due to collisions with the fluid's molecules.\n",
    "Albert Einstein's 1905 paper on Brownian motion was crucial in confirming the atomic theory of matter, demonstrating how random thermal collisions produce observable diffusion.\n",
    "\n",
    "![Brownian motion](https://upload.wikimedia.org/wikipedia/commons/c/c2/Brownian_motion_large.gif)"
   ]
  },
  {
   "cell_type": "markdown",
   "id": "67",
   "metadata": {},
   "source": [
    "### Physical Background\n",
    "\n",
    "In 2D, the particle's position can be represented by $(X_n, Y_n)$.\n",
    "For an unbiased random walk on a square grid, you can think of each step as adding either $\\pm 1$ to $X_n$ and/or $Y_n$, chosen with equal probabilities.\n",
    "Alternatively, you can treat each dimension as a separate 1D random walk.\n",
    "Over many steps, we expect the displacement in $x$ and $y$ to follow the same $\\sqrt{n}$ scaling we saw in 1D, but combined in quadrature:\n",
    "\\begin{align}\n",
    "r_n = \\sqrt{X_n^2 + Y_n^2} \\quad \\text{scales like} \\quad \\sqrt{2n},\n",
    "\\end{align}\n",
    "if each dimension receives a $\\pm 1$ step with probability $1/2$.\n",
    "More generally, if the step length is some constant $\\delta$, the mean-squared displacement after $n$ steps is proportional to $n$.\n",
    "This is a major result of diffusion in two dimensions."
   ]
  },
  {
   "cell_type": "markdown",
   "id": "68",
   "metadata": {},
   "source": [
    "## Python Implementation\n",
    "\n",
    "The simplest model of Brownian motion is simply a two-dimension random walk:"
   ]
  },
  {
   "cell_type": "code",
   "execution_count": null,
   "id": "69",
   "metadata": {},
   "outputs": [],
   "source": [
    "X = randomwalk()\n",
    "Y = randomwalk()\n",
    "\n",
    "plt.figure(figsize=(12,12))\n",
    "plt.plot(X, Y)\n",
    "plt.gca().set_aspect('equal')"
   ]
  },
  {
   "cell_type": "markdown",
   "id": "70",
   "metadata": {},
   "source": [
    "The resulting plot looks slightly funny because random walk forces x and y both to move at exactly one step.\n",
    "The final outcome is that the particle can only move in diagonal directions.\n",
    "\n",
    "Nevertheless, this artifact becomes irrelevant when we model random walk for many many more steps."
   ]
  },
  {
   "cell_type": "code",
   "execution_count": null,
   "id": "71",
   "metadata": {},
   "outputs": [],
   "source": [
    "X = randomwalk(100000)\n",
    "Y = randomwalk(100000)\n",
    "\n",
    "plt.figure(figsize=(12,12))\n",
    "plt.plot(X, Y)\n",
    "plt.gca().set_aspect('equal')"
   ]
  }
 ],
 "metadata": {
  "kernelspec": {
   "display_name": "Python 3 (ipykernel)",
   "language": "python",
   "name": "python3"
  },
  "language_info": {
   "codemirror_mode": {
    "name": "ipython",
    "version": 3
   },
   "file_extension": ".py",
   "mimetype": "text/x-python",
   "name": "python",
   "nbconvert_exporter": "python",
   "pygments_lexer": "ipython3",
   "version": "3.13.2"
  }
 },
 "nbformat": 4,
 "nbformat_minor": 5
}
