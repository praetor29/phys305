{
 "cells": [
  {
   "cell_type": "markdown",
   "id": "0",
   "metadata": {},
   "source": [
    "# ODE Integrators I: Explicit Methods\n",
    "\n",
    "In this lecture, we will explore numerical methods for solving ordinary differential equations (ODEs), focusing on initial value problems (IVPs).\n",
    "We will begin by discussing the importance of integrating differential equations in physics and the limitations of analytical solutions.\n",
    "We will then introduce the forward Euler method, which is explicit.\n",
    "We will examine how truncation errors and round-off errors affect these methods."
   ]
  },
  {
   "cell_type": "markdown",
   "id": "1",
   "metadata": {},
   "source": [
    "## Introduction to Numerical ODEs\n",
    "\n",
    "Ordinary differential equations (ODEs) are foundational to understanding and predicting the behavior of physical systems.\n",
    "Many of the dynamic processes that occur in nature, from the motion of planets under gravitational forces to the oscillations of atoms in a crystal lattice, are described by differential equations.\n",
    "For instance, Newton's second law, which states that the force on an object is equal to its mass times its acceleration, can be written as:\n",
    "\\begin{align}\n",
    "F = m a = m \\frac{d^2x}{dt^2}\n",
    "\\end{align}\n",
    "This equation, along with others describing physical laws, typically involves derivatives of a function, representing rates of change, which relate the state of a system at one moment to its state at another.\n",
    "In cases where physical fields, like the electromagnetic or gravitational fields, are described, partial differential equations (PDEs) are used since they involve rates of change with respect to multiple variables.\n",
    "However, in this lecture, we focus on ODEs where functions depend on a single variable, typically time.\n",
    "\n",
    "It is not always possible to solve ODEs analytically\n",
    "Analytic solutions are often limited to simple or highly idealized cases.\n",
    "Real-world systems tend to involve complex, nonlinear relationships that cannot be resolved through straightforward integration or algebraic manipulation.\n",
    "For these cases, numerical methods provide a powerful alternative."
   ]
  },
  {
   "cell_type": "markdown",
   "id": "2",
   "metadata": {},
   "source": [
    "### Problem Definition and Types of Differential Equations\n",
    "\n",
    "Consider the following two types of differential equations, which differ in their dependence on variables:\n",
    "\n",
    "1.  The first type has the form:\n",
    "    \\begin{align}\n",
    "    \\frac{dx}{dt} = f(t)\n",
    "    \\end{align}\n",
    "    Here, the right-hand side (RHS) of the equation, $f(t)$, depends only on the independent variable $t$ and not on $x$, the dependent variable we are solving for.\n",
    "2.\tThe second type is given by:\n",
    "    \\begin{align}\n",
    "    \\frac{dx}{dt} = f(x, t)\n",
    "    \\end{align}\n",
    "    In this equation, the RHS depends on both $t$ and $x$, making it more complicated since $x$, the quantity we are trying to determine, appears in the expression that defines its rate of change."
   ]
  },
  {
   "cell_type": "markdown",
   "id": "3",
   "metadata": {},
   "source": [
    "The first type of differential equation, where $f(t)$ depends only on $t$, can be solved by direct integration.\n",
    "This is because we can integrate $f(t)$ with respect to $t$ to find $x(t)$:\n",
    "\\begin{align}\n",
    "x(t) = x(t_0) + \\int_{t_0}^t f(t') \\, dt'\n",
    "\\end{align}\n",
    "This approach is feasible when $f(t)$ is a function that can be integrated analytically.\n",
    "In cases where this is not possible, numerical integration techniques, such as the trapezoidal rule or Simpson's rule, can be used to approximate the solution.\n",
    "We covered these numerical integration techniques in an earlier lecture on \"[Numerical Integration of Functions](../08/notes.md)\"."
   ]
  },
  {
   "cell_type": "markdown",
   "id": "4",
   "metadata": {},
   "source": [
    "The second type of differential equation, where $f(x, t)$ depends on both $x$ and $t$, is more complicated.\n",
    "We cannot solve this type by direct integration because $x$, the function we are trying to find, is also part of the expression on the RHS. For example, attempting to directly integrate is not feasible since $x$ is unknown within the integral itself.\n",
    "In other words, we do not know $x$ at intermediate points between $t_0$ and $t$, so we cannot compute the integral without first determining $x(t)$ at these points.\n",
    "\n",
    "This is where numerical methods for ODEs become essential.\n",
    "Instead of solving for $x(t)$ in one go, we use numerical methods to approximate the solution by advancing in small increments over the interval of interest.\n",
    "This way, we iteratively approximate $x(t)$ at discrete points in time, allowing us to handle equations where direct integration is not possible.\n",
    "\n",
    "Since many real-world systems fall into the second category of differential equations, where the dependence on  $x$ and $t$ is nonlinear, numerical methods are widely used in scientific computing.\n",
    "These methods break down the problem into manageable steps and enable us to approximate solutions even when analytic solutions do not exist or are difficult to obtain.\n",
    "Numerical methods not only provide practical solutions to ODEs but also allow for flexibility in modeling a wide range of phenomena, such as chaotic systems, non-linear oscillations, and biological systems with interacting populations."
   ]
  },
  {
   "cell_type": "markdown",
   "id": "5",
   "metadata": {},
   "source": [
    "## Euler's Method\n",
    "\n",
    "Euler's method is the simplest techniques for numerically solving ordinary differential equations.\n",
    "This method provides an easy way to approximate the solution of an initial value problem (IVP) by advancing one small step at a time.\n",
    "We can apply Euler's method to an ODE of the form:\n",
    "\\begin{align}\n",
    "\\frac{dx}{dt} = f(x, t), \\quad x(t_0) = x_0\n",
    "\\end{align}\n",
    "where $x_0$ is the initial value of $x$ at time $t = t_0$.\n",
    "However, as we will see below, it is usually not recommanded in pratical calculations because of its stability properties."
   ]
  },
  {
   "cell_type": "markdown",
   "id": "6",
   "metadata": {},
   "source": [
    "### Forward (Explicit) Euler Method\n",
    "\n",
    "There are three simple ways to derive Euler's method.\n",
    "\n",
    "The easiest way is simply hold $x$ fixed in $f(x, t)$ and apply the left Reimann sum.\n",
    "The left Reimann sum is first order in step size by approximating $f(x, t)$ as a constant.\n",
    "In this sense, holding $x$ is somewhat \"self-consistent\" in terms of approximation order.\n",
    "\n",
    "Second, we recall the definition of a deriviative:\n",
    "\\begin{align}\n",
    "  f(x, t) = \\frac{dx}{dt} = \\lim_{\\Delta t\\rightarrow 0}\\frac{x(t + \\Delta t) - x(t)}{\\Delta t}.\n",
    "\\end{align}\n",
    "If we simply remove the limit and keep the \"finite difference\" part, then it is trivial to show\n",
    "\\begin{align}\n",
    "  x(t + \\Delta t) &\\approx x(t) + f(x(t), t)\\Delta t.\n",
    "\\end{align}\n",
    "Which is nothing but again the forward Euler method.\n",
    "While very intuitive, the above two derivations do not formally show the order of the Euler method.\n",
    "\n",
    "We may also consider a numerical approximation to the solution of an ODE.\n",
    "We approximate the solution at time $t_{n+1} = t_n + \\Delta t$ by using the Taylor expansion:\n",
    "\\begin{align}\n",
    "x(t_{n+1}) = x(t_n) + f(x(t_n), t_n) \\Delta t + \\mathcal{O}(\\Delta t^2)\n",
    "\\end{align}\n",
    "Neglecting the higher-order terms in the expansion, we obtain once again the Forward Euler Method:\n",
    "\\begin{align}\n",
    "x_{n+1} = x_n + f(x_n, t_n) \\Delta t\n",
    "\\end{align}\n",
    "It is thus a step-by-step approach that proceeds by evaluating $f(x, t)$ at each time point and then advancing to the next point.\n",
    "It is an explicit method in 1st order."
   ]
  },
  {
   "cell_type": "markdown",
   "id": "7",
   "metadata": {},
   "source": [
    "### Example\n",
    "\n",
    "Let's consider solving the simpmle differential equation:\n",
    "\\begin{align}\n",
    "\\frac{dx}{dt} = \\lambda x(t)\n",
    "\\end{align}\n",
    "\n",
    "This equation has solution\n",
    "\\begin{align}\n",
    "x(t) = \\exp[\\lambda(t-t_0)]\n",
    "\\end{align}\n",
    "\n",
    "If we choose $\\lambda = 1$ and $x(0) = 1$, the solutoin reduces to $x(t) = \\exp(t)$."
   ]
  },
  {
   "cell_type": "code",
   "execution_count": null,
   "id": "8",
   "metadata": {},
   "outputs": [],
   "source": [
    "# Let's visualize the solution:\n",
    "\n",
    "import numpy as np\n",
    "from matplotlib import pyplot as plt\n",
    "\n",
    "Tp = np.linspace(0, 2, 2001)\n",
    "Xp = np.exp(Tp)\n",
    "\n",
    "plt.plot(Tp, Xp)"
   ]
  },
  {
   "cell_type": "code",
   "execution_count": null,
   "id": "9",
   "metadata": {},
   "outputs": [],
   "source": [
    "# Let's implement Euler's method, with history\n",
    "\n",
    "def forwardEuler(f, x, t, dt, n):\n",
    "    T = [t]\n",
    "    X = [x]\n",
    "    for i in range(n):\n",
    "        t += dt\n",
    "        x += f(x) * dt\n",
    "        T.append(t)\n",
    "        X.append(x)\n",
    "    return T, X"
   ]
  },
  {
   "cell_type": "code",
   "execution_count": null,
   "id": "10",
   "metadata": {},
   "outputs": [],
   "source": [
    "# Let's test Euler's method\n",
    "\n",
    "def f(x):\n",
    "    return x\n",
    "\n",
    "T, X = forwardEuler(f, 1, 0, 0.1, 20)\n",
    "\n",
    "plt.plot(Tp, Xp)\n",
    "plt.plot(T,  X, 'o-')\n",
    "plt.xlabel('t')\n",
    "plt.ylabel('x')"
   ]
  },
  {
   "cell_type": "code",
   "execution_count": null,
   "id": "11",
   "metadata": {},
   "outputs": [],
   "source": [
    "# The accuracy should increase when we use a small step\n",
    "\n",
    "T, X = forwardEuler(f, 1, 0, 0.01, 200)\n",
    "\n",
    "plt.plot(Tp, Xp)\n",
    "plt.plot(T,  X)\n",
    "plt.xlabel('t')\n",
    "plt.ylabel('x')"
   ]
  },
  {
   "cell_type": "code",
   "execution_count": null,
   "id": "12",
   "metadata": {},
   "outputs": [],
   "source": [
    "# As always, we can study the convergence of the numerical method\n",
    "\n",
    "def error(N=200):\n",
    "    T, X = forwardEuler(f, 1, 0, 2/N, N)\n",
    "    Xp = np.exp(T)\n",
    "    return np.max(abs(X - Xp))\n",
    "\n",
    "N = np.array([64, 128, 256, 512, 1024])\n",
    "E = np.array([error(n) for n in N])\n",
    "\n",
    "plt.loglog(N, 16/N, label='1/N')\n",
    "plt.loglog(N, E, 'o:', label='Forward Euler')\n",
    "plt.xlabel('N')\n",
    "plt.ylabel(r'$\\text{err} = max|x_\\text{numeric} - x|$')\n",
    "plt.legend()"
   ]
  },
  {
   "cell_type": "markdown",
   "id": "13",
   "metadata": {},
   "source": [
    "### System of ODEs\n",
    "\n",
    "In computational astrophysics, we often encounter systems governed by Newton's laws:\n",
    "\\begin{align}\n",
    "m \\frac{d^2 x}{dt^2} = f(x, t)\n",
    "\\end{align}\n",
    "\n",
    "This equation is a second-order ordinary differential equation because it involves the second derivative of $x$ with respect to $t$.\n",
    "However, it is often more practical to convert second-order ODEs into a system of first-order ODEs.\n",
    "To do this, we introduce a new variable, $v = dx/dt$, representing the velocity of the object.\n",
    "This substitution allows us to rewrite the second-order ODE as two coupled first-order equations:\n",
    "\\begin{align} \n",
    "\\frac{dx}{dt} &= v\\\\\n",
    "\\frac{dv}{dt} &= \\frac{1}{m}f(x, t)\n",
    "\\end{align}\n",
    "\n",
    "This formulation provides a convenient framework for numerical methods, which are generally well-suited to solving systems of first-order ODEs.\n",
    "To further simplify, we can express these equations in vector notation by defining $Y = [x, v]^t$ and $F = [v, f/m]^t$. The system then becomes:\n",
    "\\begin{align}\n",
    "\\frac{dY}{dt} = F(Y, t).\n",
    "\\end{align}\n",
    "\n",
    "This vector form emphasizes the structure of the system and enables us to apply general numerical techniques to solve both equations simultaneously."
   ]
  },
  {
   "cell_type": "markdown",
   "id": "14",
   "metadata": {},
   "source": [
    "To illustrate this approach, let's consider a classic example: the simple pendulum under gravity.\n",
    "The motion of a pendulum of length $l$, swinging under gravity $g$, can be described by the second-order equation:\n",
    "\\begin{align}\n",
    "\\frac{d^2\\theta}{dt^2} + \\frac{g}{l} \\sin\\theta = 0\n",
    "\\end{align}\n",
    "\n",
    "Here, $\\theta(t)$ is the angle of the pendulum with the vertical, and the term $\\sin \\theta$ introduces nonlinearity, which makes the equation challenging to solve analytically.\n",
    "Converting this equation into a system of first-order ODEs allows us to handle it more effectively with numerical methods.\n",
    "We define $\\Omega = \\frac{d\\theta}{dt}$, the angular velocity, leading to the following system:\n",
    "\\begin{align}\n",
    "\\frac{d\\theta(t)}{dt} &= \\Omega(t)\\\\\n",
    "\\frac{d\\Omega(t)}{dt} &= - \\frac{g}{l}\\sin\\theta(t)\n",
    "\\end{align}\n",
    "\n",
    "In vector notation, we represent the system as:\n",
    "\\begin{align}\n",
    "\\frac{dY(t)}{dt} = F(Y, t)\n",
    "\\end{align}\n",
    "where \n",
    "\\begin{align}\n",
    "Y &= \\begin{bmatrix} \\theta(t) \\\\ \\Omega(t) \\end{bmatrix}\\\\\n",
    "F(Y, t) &= \\begin{bmatrix} \\Omega(t) \\\\ -\\frac{g}{l} \\sin \\theta(t) \\end{bmatrix}\n",
    "\\end{align}"
   ]
  },
  {
   "cell_type": "markdown",
   "id": "15",
   "metadata": {},
   "source": [
    "In later part of the lecture, we will try to solve this problem.\n",
    "But to derive and compare different numerical methods, let's first reduce the problem to something that has analytical solutions.\n",
    "Specifically, we can simplify the pendulum problem further by assuming small oscillations, where the angle $\\theta$ is small enough that $\\sin \\theta \\approx \\theta$.\n",
    "This approximation linearizes the equation of motion, reducing the system to a simple harmonic oscillator.\n",
    "In this approximation, the equation of motion becomes:\n",
    "\\begin{align}\n",
    "\\frac{d^2 \\theta}{dt^2} + \\frac{g}{l} \\theta = 0\n",
    "\\end{align}\n",
    "As a result, the system of ODEs becomes:\n",
    "\\begin{align}\n",
    "Y &= \\begin{bmatrix} \\theta(t) \\\\ \\Omega(t) \\end{bmatrix}\\\\\n",
    "F(Y, t) &= \\begin{bmatrix} \\Omega(t) \\\\ -\\frac{g}{l} \\theta(t) \\end{bmatrix}\n",
    "\\end{align}"
   ]
  },
  {
   "cell_type": "code",
   "execution_count": null,
   "id": "16",
   "metadata": {},
   "outputs": [],
   "source": [
    "# Let's first plot the analytical solution\n",
    "\n",
    "Tp     = np.linspace(0, 10, 1001)\n",
    "Thetap = 0.01 * np.sin(Tp)\n",
    "\n",
    "plt.plot(Tp, Thetap)"
   ]
  },
  {
   "cell_type": "code",
   "execution_count": null,
   "id": "17",
   "metadata": {},
   "outputs": [],
   "source": [
    "# Thanks to operator overriding,\n",
    "# our forward Euler method is almost ready to solve system of ODEs\n",
    "\n",
    "def forwardEuler(f, x, t, dt, n):\n",
    "    T = np.array(t)\n",
    "    X = np.array(x)\n",
    "    for i in range(n):\n",
    "        t += dt\n",
    "        x += np.array(f(*x)) * dt\n",
    "        T = np.append( T, t )\n",
    "        X = np.vstack((X, x))\n",
    "    return T, X"
   ]
  },
  {
   "cell_type": "code",
   "execution_count": null,
   "id": "18",
   "metadata": {},
   "outputs": [],
   "source": [
    "# Compare the analytical and numerical solutions\n",
    "\n",
    "def f(theta, omega):\n",
    "    return omega, -theta\n",
    "\n",
    "T, X = forwardEuler(f, (0, 0.01), 0, 0.01, 1000)\n",
    "\n",
    "Theta = X[:,0]\n",
    "Omega = X[:,1]\n",
    "\n",
    "plt.plot(Tp, Thetap)\n",
    "plt.plot(T,  Theta)"
   ]
  },
  {
   "cell_type": "code",
   "execution_count": null,
   "id": "19",
   "metadata": {},
   "outputs": [],
   "source": [
    "# Again, we can study the convergence of the numerical method\n",
    "\n",
    "def error(N=100):\n",
    "    T, X = forwardEuler(f, (0, 0.01), 0, 10/N, N)\n",
    "    Theta  = X[:,0]\n",
    "    Thetap = 0.01 * np.sin(T)\n",
    "    return np.max(abs(Theta - Thetap))\n",
    "\n",
    "N = np.array([64, 128, 256, 512, 1024])\n",
    "E = np.array([error(n) for n in N])\n",
    "\n",
    "plt.loglog(N, 0.5/N, label='1/N')\n",
    "plt.loglog(N, E, 'o:', label='Forward Euler')\n",
    "plt.xlabel('N')\n",
    "plt.ylabel(r'$\\text{err} = max|x_\\text{numeric} - x|$')\n",
    "plt.legend()"
   ]
  },
  {
   "cell_type": "markdown",
   "id": "20",
   "metadata": {},
   "source": [
    "### Can We Improve the Method?\n",
    "\n",
    "The Forward Euler method is only first-order accurate, meaning its error decreases linearly with the step size $\\Delta t$.\n",
    "While it is simple to implement, this method's convergence rate is limited, and achieving higher accuracy requires very small steps, which can become computationally expensive.\n",
    "This naturally raises the question: can we improve the convergence rate of our numerical solution, reducing the error more rapidly as we use smaller steps?\n",
    "To explore this, we can draw inspiration from our previous work on numerical integration.\n",
    "In that context, we observed that the midpoint (or central) Riemann sum converges faster than the left or right Riemann sums.\n",
    "This suggests that a midpoint approach may also provide advantages in solving ODEs."
   ]
  },
  {
   "cell_type": "markdown",
   "id": "21",
   "metadata": {},
   "source": [
    "### A Midpoint Method\n",
    "\n",
    "One possible improvement is to propose a midpoint method that attempts to evaluate the function $f$ at the midpoint between steps.\n",
    "Mathematically, this approach can be expressed as:\n",
    "\\begin{align}\n",
    "X_{n+1} = X_n + f(X_{n+1/2}, t_{n+1/2}) \\Delta t\n",
    "\\end{align}\n",
    "However, a significant obstacle arises: the midpoint value $f_{n+1/2} \\equiv f(X_{n+1/2}, t_{n+1/2})$ is unknown at step $n$.\n",
    "We need to know the value of $X$ at the midpoint $t_{n+1/2}$ to use this method, but this value cannot be calculated without already knowing the future values of $X$.\n",
    "This issue makes a straightforward midpoint method impractical for generic ODEs, where $f$ depends on both $X$ and $t$.\n",
    "\n",
    "An exception occurs if $f$ depends only on $t$, as in $\\frac{dx}{dt} = f(t)$;\n",
    "in such cases, a true midpoint method is feasible, which is nothing but out middle Reimann sum.\n",
    "However, for most ODEs, including those where $f$ depends on $X$, a different approach is necessary."
   ]
  },
  {
   "cell_type": "markdown",
   "id": "22",
   "metadata": {},
   "source": [
    "### A Simple Idea: The Second-Order Runge-Kutta Method\n",
    "\n",
    "To work around this issue, we can approximate the midpoint value instead of calculating it exactly.\n",
    "It suffices to find an approximate solution for $X$ at the half-step, which we denote as $Y_{n+1/2}$.\n",
    "One way to do this is to use the Forward Euler method to compute an estimated value at the midpoint.\n",
    "Specifically, we can approximate $X$ at $t_{n+1/2}$ as:\n",
    "\\begin{align}\n",
    "\\tilde{X}_{n+1/2} = X_n + f(X_n, t_n) \\frac{\\Delta t}{2}\n",
    "\\end{align}\n",
    "Using this half-step approximation, we then proceed with a full step to find $X_{n+1}$ by evaluating $f$ at the midpoint:\n",
    "\\begin{align}\n",
    "X_{n+1} = X_n + f(\\tilde{X}_{n+1/2}, t_{n+1/2}) \\Delta t\n",
    "\\end{align}\n",
    "This approach, known as the second-order Runge-Kutta method, provides a way to incorporate midpoint information, achieving second-order accuracy.\n",
    "The second-order Runge-Kutta method improves convergence by leveraging an approximate midpoint, resulting in a more accurate solution than the first-order Euler method without requiring a prohibitively small step size."
   ]
  },
  {
   "cell_type": "code",
   "execution_count": null,
   "id": "23",
   "metadata": {},
   "outputs": [],
   "source": [
    "def Euler2(f, x, t, dt, n):\n",
    "    T = np.array(t)\n",
    "    X = np.array(x)\n",
    "    \n",
    "    for i in range(n):\n",
    "        k1 = dt * np.array(f(*(x )))\n",
    "        xh = x + 0.5*k1\n",
    "        k2 = dt * np.array(f(*(xh)))\n",
    "        t += dt\n",
    "        x  = xh + 0.5*k2\n",
    "        \n",
    "        T = np.append( T, t)\n",
    "        X = np.vstack((X, x))\n",
    "        \n",
    "    return T, X"
   ]
  },
  {
   "cell_type": "code",
   "execution_count": null,
   "id": "24",
   "metadata": {},
   "outputs": [],
   "source": [
    "def RK2(f, x, t, dt, n):\n",
    "    T = np.array(t)\n",
    "    X = np.array(x)\n",
    "    \n",
    "    for i in range(n):\n",
    "        k1 = dt * np.array(f(*(x         )))\n",
    "        k2 = dt * np.array(f(*(x + 0.5*k1)))\n",
    "        \n",
    "        t += dt\n",
    "        x += k2\n",
    "        \n",
    "        T = np.append( T, t)\n",
    "        X = np.vstack((X, x))\n",
    "        \n",
    "    return T, X"
   ]
  },
  {
   "cell_type": "code",
   "execution_count": null,
   "id": "25",
   "metadata": {},
   "outputs": [],
   "source": [
    "N=64\n",
    "\n",
    "T, X = Euler2(f, (0, 0.01), 0, 10/N, N)\n",
    "\n",
    "plt.plot(T, 0.01*np.sin(T))\n",
    "plt.plot(T, X[:,0], 'o')"
   ]
  },
  {
   "cell_type": "code",
   "execution_count": null,
   "id": "26",
   "metadata": {},
   "outputs": [],
   "source": [
    "N=64\n",
    "\n",
    "T, X = RK2(f, (0, 0.01), 0, 10/N, N)\n",
    "\n",
    "plt.plot(T, 0.01*np.sin(T))\n",
    "plt.plot(T, X[:,0], 'o')"
   ]
  },
  {
   "cell_type": "code",
   "execution_count": null,
   "id": "27",
   "metadata": {},
   "outputs": [],
   "source": [
    "def errorEuler2(N=100):\n",
    "    T, X = Euler2(f, (0, 0.01), 0, 10/N, N)\n",
    "    Theta  = X[:,0]\n",
    "    Thetap = 0.01 * np.sin(T)\n",
    "    return np.max(abs(Theta - Thetap))"
   ]
  },
  {
   "cell_type": "code",
   "execution_count": null,
   "id": "28",
   "metadata": {},
   "outputs": [],
   "source": [
    "def error2(N=100):\n",
    "    T, X = RK2(f, (0, 0.01), 0, 10/N, N)\n",
    "    Theta  = X[:,0]\n",
    "    Thetap = 0.01 * np.sin(T)\n",
    "    return np.max(abs(Theta - Thetap))\n",
    "\n",
    "N = np.array([64, 128, 256, 512, 1024])\n",
    "E2 = np.array([error2(n) for n in N])\n",
    "E22 = np.array([errorEuler2(n) for n in N])\n",
    "\n",
    "print(E2[-1])\n",
    "\n",
    "plt.loglog(N, 1/N**2,  label='1/N^2')\n",
    "plt.loglog(N, E, 'o:', label='Forward Euler')\n",
    "plt.loglog(N, E2,'o-', label='RK2')\n",
    "plt.loglog(N, E22,'o-', label='Euler2')\n",
    "plt.xlabel('N')\n",
    "plt.ylabel(r'$\\text{err} = max|x_\\text{numeric} - x|$')\n",
    "plt.legend()"
   ]
  },
  {
   "cell_type": "markdown",
   "id": "29",
   "metadata": {},
   "source": [
    "The convergence plot clearly demonstrates that RK2 achieves second-order accuracy.\n",
    "This means that the error decreases quadratically with the step size $\\Delta t$.\n",
    "For example, using 1024 points for the integration not only doubles the computational cost compared to using 512 points but also improves the accuracy of the solution by approximately 250 times.\n",
    "This significant increase in accuracy suggests that higher-order methods offer substantial benefits, especially for problems requiring high precision.\n",
    "Naturally, this brings us to the question: can we improve the accuracy even further than what RK2 provides?"
   ]
  },
  {
   "cell_type": "markdown",
   "id": "30",
   "metadata": {},
   "source": [
    "### Observation and Proposal\n",
    "\n",
    "In the second-order Runge-Kutta method (RK2), the midpoint value $X_n + \\frac{1}{2}k_1$ is obtained using a simple approximation derived from the Forward Euler method.\n",
    "Specifically, we first calculate $k_1$ as:\n",
    "\\begin{align}\n",
    "k_1 = \\Delta t \\, f(X_n, t_n)\n",
    "\\end{align}\n",
    "and then use this to approximate $k_2$:\n",
    "\\begin{align}\n",
    "k_2 = \\Delta t \\, f\\left(X_n + \\frac{1}{2}k_1, t_n + \\frac{1}{2} \\Delta t\\right)\n",
    "\\end{align}\n",
    "This approach provides a basic estimate for the midpoint.\n",
    "However, we can improve this estimate by refining our approximation of the midpoint using another application of the Forward Euler estimate.\n",
    "We calculate $k_3$ as follows:\n",
    "\\begin{align}\n",
    "k_3 = \\Delta t \\, f\\left(X_n + \\frac{1}{2}k_2, t_n + \\frac{1}{2} \\Delta t\\right)\n",
    "\\end{align}\n",
    "Finally, to complete the full step with this improved midpoint estimate, we compute $k_4$:\n",
    "\\begin{align}\n",
    "k_4 = \\Delta t \\, f(X_n + k_3, t_n + \\Delta t)\n",
    "\\end{align}"
   ]
  },
  {
   "cell_type": "markdown",
   "id": "31",
   "metadata": {},
   "source": [
    "The values $k_1$, $k_2$, $k_3$, and $k_4$ each provide estimates of how $X$ will change over one step, though they carry different error terms.\n",
    "By combining these terms carefully, we can construct a higher-order method that effectively cancels out some of the error components.\n",
    "This technique, when implemented correctly, yields an even more accurate approximation than any single $k$-estimate alone, allowing us to achieve the accuracy of a fourth-order Runge-Kutta method (RK4)."
   ]
  },
  {
   "cell_type": "markdown",
   "id": "32",
   "metadata": {},
   "source": [
    "### Fourth-Order Runge-Kutta Method\n",
    "\n",
    "The classical fourth-order Runge-Kutta method (RK4) is a widely used technique for numerically solving ordinary differential equations with high accuracy.\n",
    "This method calculates four intermediate values at each time step, combining them to achieve fourth-order accuracy.\n",
    "The process begins by computing four slopes, $k_1$, $k_2$, $k_3$, and $k_4$, which represent different estimates of the derivative over the interval:\n",
    "\\begin{align}\n",
    "k_1 &= \\Delta t \\, f(X_n, t_n) \\\\\n",
    "k_2 &= \\Delta t \\, f\\left(X_n + \\frac{1}{2}k_1, t_n + \\frac{1}{2}\\Delta t\\right) \\\\\n",
    "k_3 &= \\Delta t \\, f\\left(X_n + \\frac{1}{2}k_2, t_n + \\frac{1}{2}\\Delta t\\right) \\\\\n",
    "k_4 &= \\Delta t \\, f\\left(X_n + k_3, t_n + \\Delta t\\right)\n",
    "\\end{align}\n",
    "Once these intermediate values are calculated, they are combined to update $X$ at the next step.\n",
    "\n",
    "The weighted average of these values, with coefficients that cancel higher-order error terms, is assumed to have the generic form\n",
    "\\begin{align}\n",
    "X_{n+1} = X_n + a_1 k_1 + a_2 k_2 + a_3 k_3 + a_4 k_4 + \\mathcal{O}(\\Delta t^5).\n",
    "\\end{align}"
   ]
  },
  {
   "cell_type": "markdown",
   "id": "33",
   "metadata": {},
   "source": [
    "But what should be the values of $a_i$?\n",
    "The derivation turns out to be tedious but straightforwards.\n",
    "\n",
    "Recalling we want to solve an ODE:\n",
    "\\begin{align}\n",
    "\\frac{dx}{dt} = f(x)\n",
    "\\end{align}\n",
    "The solution $x(t)$ evaluated at $t_{n+1} = (n+1) \\Delta t$ can be written in terms of $x(t)$ evaluated at $t_n$ in Taylor series.\n",
    "I.e.,\n",
    "\\begin{align}\n",
    "x_{n+1} = x_n + \\dot{x}_n \\Delta t + \\frac{1}{2} \\ddot{x}_n \\Delta t + \\frac{1}{3!} \\dddot{x}_n \\Delta t^3 + \\cdots\n",
    "\\end{align}\n",
    "Here, we use $x_n \\equiv x(t_n) \\equiv x(n \\Delta t)$.\n",
    "Substituting the ODE into the Taylor series and use\n",
    "\\begin{align}\n",
    "  \\frac{df}{dt}      &= \\frac{d^2 x}{dt^2} = f'(x(t)) \\frac{dx}{dt} = f' f, \\\\\n",
    "  \\frac{d^2 f}{dt^2} &= \\frac{d^3 x}{dt^3} = \\frac{d}{dt}(f' f) = f'' f^2 + f'^2 f\n",
    "\\end{align}\n",
    "we obtain\n",
    "\\begin{align}\n",
    "x_{n+1} = x_n + f_n \\Delta t + \\frac{1}{2}f'_n f_n \\Delta t + \\frac{1}{3!} (f''_n f_n^2 + {f'_n}^2 f_n) \\Delta t^2 + \\cdots\n",
    "\\end{align}"
   ]
  },
  {
   "cell_type": "markdown",
   "id": "34",
   "metadata": {},
   "source": [
    "To construct Runge-Kutta method, we consider a formulation\n",
    "\\begin{align}\n",
    "x_{n+1} = x_n + a_1 \\Delta_1 x_n + a_2 \\Delta_2 x_n + \\cdots + a_s \\Delta_s x_n\n",
    "\\end{align}\n",
    "for some $s$, where\n",
    "\\begin{align}\n",
    "\\Delta_1 x_n &\\equiv f(x(t_n)) \\Delta t \\\\\n",
    "\\Delta_2 x_n &\\equiv f(x(t_n + b_2 \\Delta t)) \\Delta t\n",
    "= \\left[f_n + f'_n f_n (b_2 \\Delta t) + \\frac{1}{2} (f''_n f_n^2 + {f'_n}^2 f_n) (b_2 \\Delta t)^2 + \\cdots\\right]\\Delta t\\\\\n",
    "\\cdots \\\\\n",
    "\\Delta_s x_n &\\equiv f(x(t_n + b_s \\Delta t)) \\Delta t\n",
    "= \\left[f_n + f'_n f_n (b_s \\Delta t) + \\frac{1}{2} (f''_n f_n^2 + {f'_n}^2 f_n) (b_s \\Delta t)^2 + \\cdots\\right]\\Delta t\n",
    "\\end{align}"
   ]
  },
  {
   "cell_type": "markdown",
   "id": "35",
   "metadata": {},
   "source": [
    "Substitute, we obtain\n",
    "\\begin{align}\n",
    "x_{n+1} = x_n\n",
    "&+ a_1 f_n \\Delta t \\\\\n",
    "&+ a_2 \\left[f_n \\Delta t + b_2 f'_n f_n \\Delta t^2 + \\frac{1}{2} b_2^2 (f''_n f_n^2 + {f'_n}^2 f_n) \\Delta t^3 + \\cdots\\right] \\\\\n",
    "&+ \\cdots \\\\\n",
    "&+ a_s \\left[f_n \\Delta t + b_s f'_n f_n \\Delta t^2 + \\frac{1}{2} b_s^2 (f''_n f_n^2 + {f'_n}^2 f_n) \\Delta t^3 + \\cdots\\right]\n",
    "\\end{align}\n",
    "\n",
    "For 4th-order scheme, collecting the terms and require all terms up to $\\Delta t^4$ match, we obtain the conditions\n",
    "\\begin{align}\n",
    "a_1       + a_2       + a_3       + a_4       &=       1     \\\\\n",
    "            a_2 b_2   + a_3 b_3   + a_4 b_4   &= \\frac{1}{2} \\\\\n",
    "            a_2 b_2^2 + a_3 b_3^2 + a_4 b_4^2 &= \\frac{1}{3} \\\\\n",
    "            a_2 b_2^3 + a_3 b_3^3 + a_4 b_4^3 &= \\frac{1}{4}\n",
    "\\end{align}"
   ]
  },
  {
   "cell_type": "markdown",
   "id": "36",
   "metadata": {},
   "source": [
    "For the classical 4th-order Runge-Kutta scheme, we have already decided $b_1 = 0$, $b_2 = b_3 = 1/2$, and $b_4 = 1$.\n",
    "Therefore, the system of coefficients read:\n",
    "\\begin{align}\n",
    "a_1       + a_2       + a_3       + a_4 &=       1     \\\\\n",
    "\\frac{1}{2} a_2 + \\frac{1}{2} a_3 + a_4 &= \\frac{1}{2} \\\\\n",
    "\\frac{1}{4} a_2 + \\frac{1}{4} a_3 + a_4 &= \\frac{1}{3} \\\\\n",
    "\\frac{1}{8} a_2 + \\frac{1}{8} a_3 + a_4 &= \\frac{1}{4}\n",
    "\\end{align}\n",
    "It is then easy to verify that\n",
    "\\begin{align}\n",
    "(a_1, a_2, a_3, a_4) = \\left(\\frac{1}{6},\\frac{1}{3},\\frac{1}{3},\\frac{1}{6}\\right)\n",
    "\\end{align}\n",
    "is the solution."
   ]
  },
  {
   "cell_type": "code",
   "execution_count": null,
   "id": "37",
   "metadata": {},
   "outputs": [],
   "source": [
    "def RK4(f, x, t, dt, n):\n",
    "    T = np.array(t)\n",
    "    X = np.array(x)\n",
    "    \n",
    "    for i in range(n):\n",
    "        k1 = dt * np.array(f(*(x         )))\n",
    "        k2 = dt * np.array(f(*(x + 0.5*k1)))\n",
    "        k3 = dt * np.array(f(*(x + 0.5*k2)))\n",
    "        k4 = dt * np.array(f(*(x +     k3)))\n",
    "        \n",
    "        t += dt\n",
    "        x += k1/6 + k2/3 + k3/3 + k4/6\n",
    "        \n",
    "        T = np.append( T, t)\n",
    "        X = np.vstack((X, x))\n",
    "        \n",
    "    return T, X"
   ]
  },
  {
   "cell_type": "code",
   "execution_count": null,
   "id": "38",
   "metadata": {},
   "outputs": [],
   "source": [
    "N=64\n",
    "\n",
    "T, X = RK4(f, (0, 0.01), 0, 10/N, N)\n",
    "\n",
    "plt.plot(T, 0.01*np.sin(T))\n",
    "plt.plot(T, X[:,0], 'o')"
   ]
  },
  {
   "cell_type": "code",
   "execution_count": null,
   "id": "39",
   "metadata": {},
   "outputs": [],
   "source": [
    "def error3(N=100):\n",
    "    T, X = RK4(f, (0, 0.01), 0, 10/N, N)\n",
    "    Theta  = X[:,0]\n",
    "    Thetap = 0.01 * np.sin(T)\n",
    "    return np.max(abs(Theta - Thetap))\n",
    "\n",
    "N = np.array([64, 128, 256, 512, 1024])\n",
    "E3 = np.array([error3(n) for n in N])\n",
    "\n",
    "print(E3[-1])\n",
    "\n",
    "plt.loglog(N, 1/N**4,   label='1/N^4')\n",
    "plt.loglog(N, E, 'o:',  label='Forward Euler')\n",
    "plt.loglog(N, E2,'o--', label='RK2')\n",
    "plt.loglog(N, E3,'o-',  label='RK4')\n",
    "plt.xlabel('N')\n",
    "plt.ylabel(r'$\\text{err} = max|x_\\text{numeric} - x|$')\n",
    "plt.legend()"
   ]
  },
  {
   "cell_type": "markdown",
   "id": "40",
   "metadata": {},
   "source": [
    "Note that, if one choose $b_1 = 0$, $b_2 = 1/3$, $b_3 = 2/3$, and $b_4 = 1$, then the solutoin is\n",
    "\\begin{align}\n",
    "(a_1, a_2, a_3, a_4) = \\left(\\frac{1}{8},\\frac{3}{8},\\frac{3}{8},\\frac{1}{8}\\right).\n",
    "\\end{align}\n",
    "This is Wilhelm Kutta (1901)'s \"3/8 method\"."
   ]
  },
  {
   "cell_type": "markdown",
   "id": "41",
   "metadata": {},
   "source": [
    "This suggests that Runge-Kutta methods are really a \"family\", where many different choices can be used to construct numerical schemes with the same order.\n",
    "The perform of the numerical scheme, nevertheless, depends on the number of oeprations as well as the properties of the ODEs being solved."
   ]
  },
  {
   "cell_type": "markdown",
   "id": "42",
   "metadata": {},
   "source": [
    "## Complete gravity pendulum problem\n",
    "\n",
    "With a highly accurate ODE integrator like RK4, we are now equipped to solve the complete gravity pendulum problem without needing to make simplifying assumptions."
   ]
  },
  {
   "cell_type": "code",
   "execution_count": null,
   "id": "43",
   "metadata": {},
   "outputs": [],
   "source": [
    "# With a high accurate ODE integrator, we can solve for the full gravity pendulum problem:\n",
    "\n",
    "def f(theta, omega):\n",
    "    return omega, -np.sin(theta)\n",
    "\n",
    "N  = 1000\n",
    "v0 = 0.1\n",
    "T, X = RK4(f, (0, v0), 0, 10/N, N)\n",
    "\n",
    "Theta = X[:,0]\n",
    "Omega = X[:,1]\n",
    "\n",
    "plt.plot(T, v0 * np.sin(T))\n",
    "plt.plot(T, Theta)"
   ]
  },
  {
   "cell_type": "code",
   "execution_count": null,
   "id": "44",
   "metadata": {},
   "outputs": [],
   "source": [
    "# When the initial velocity is no longer small, the simple harmonic oscillator approximation is no longer valid.\n",
    "\n",
    "N  = 1000\n",
    "v0 = 1\n",
    "T, X = RK4(f, (0, v0), 0, 10/N, N)\n",
    "\n",
    "Theta = X[:,0]\n",
    "Omega = X[:,1]\n",
    "\n",
    "plt.plot(T, v0 * np.sin(T))\n",
    "plt.plot(T, Theta)"
   ]
  },
  {
   "cell_type": "code",
   "execution_count": null,
   "id": "45",
   "metadata": {},
   "outputs": [],
   "source": [
    "# When the initial velocity is large enough, the solution is not periodic.  What's going on?\n",
    "\n",
    "N  = 1000\n",
    "v0 = 2.1\n",
    "T, X = RK4(f, (0, v0), 0, 10/N,  10 * N)\n",
    "\n",
    "Theta = X[:,0]\n",
    "Omega = X[:,1]\n",
    "\n",
    "plt.plot(T, v0 * np.sin(T))\n",
    "plt.plot(T, Theta)"
   ]
  },
  {
   "cell_type": "markdown",
   "id": "46",
   "metadata": {},
   "source": [
    "## Final Comments\n",
    "\n",
    "Using the insights we developed while exploring numerical integrators, we introduced the fourth-order Runge-Kutta (RK4) method as a powerful and effective approach for solving ordinary differential equations.\n",
    "The classical RK4 method is not only highly accurate but also robust and relatively simple to implement, making it a reliable \"workhorse\" for ODE integration across many applications.\n",
    "\n",
    "When paired with advanced techniques such as adaptive time-stepping and dense output, RK4 becomes even more versatile, extending its applications to a wide range of complex problems.\n",
    "However, while RK4 is broadly effective, it's important to remember that there are many other ODE integrators available, each with strengths suited to specific types of equations.\n",
    "For certain problems—especially those involving stiffness or requiring highly efficient, precise computations—other methods may offer better performance.\n",
    "\n",
    "For further study and a deeper dive into alternative methods, consult resources like [Numerical Recipes](http://s3.amazonaws.com/nrbook.com/book_C210.html) for additional options and implementation guidance."
   ]
  }
 ],
 "metadata": {
  "kernelspec": {
   "display_name": "Python 3 (ipykernel)",
   "language": "python",
   "name": "python3"
  },
  "language_info": {
   "codemirror_mode": {
    "name": "ipython",
    "version": 3
   },
   "file_extension": ".py",
   "mimetype": "text/x-python",
   "name": "python",
   "nbconvert_exporter": "python",
   "pygments_lexer": "ipython3",
   "version": "3.13.2"
  }
 },
 "nbformat": 4,
 "nbformat_minor": 5
}
